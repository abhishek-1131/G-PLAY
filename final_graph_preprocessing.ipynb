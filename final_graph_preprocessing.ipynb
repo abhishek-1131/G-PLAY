{
 "cells": [
  {
   "cell_type": "code",
   "execution_count": 1,
   "id": "2aeeb56f-5a86-4ab4-89c6-351798393470",
   "metadata": {
    "tags": []
   },
   "outputs": [
    {
     "name": "stdout",
     "output_type": "stream",
     "text": [
      "tensor([0.], device='cuda:0')\n"
     ]
    }
   ],
   "source": [
    "import torch\n",
    "torch.cuda.is_available()\n",
    "print(torch.zeros(1).cuda())"
   ]
  },
  {
   "cell_type": "code",
   "execution_count": 1,
   "id": "72dab765-7f9b-41da-afdf-d8a585a451a0",
   "metadata": {
    "tags": []
   },
   "outputs": [
    {
     "name": "stdout",
     "output_type": "stream",
     "text": [
      "2.1.0\n"
     ]
    }
   ],
   "source": [
    "import torch\n",
    "import torch_geometric\n",
    "import torch_geometric.nn as pyg_nn\n",
    "from torch_sparse import SparseTensor, matmul\n",
    "from torch.utils.data import DataLoader\n",
    "import torch.nn as nn\n",
    "import torch.nn.functional as F\n",
    "from torch_geometric.nn import SAGEConv\n",
    "print(torch_geometric.__version__)\n",
    "\n",
    "import torch_scatter\n",
    "import torch.nn as nn\n",
    "import torch.nn.functional as F\n",
    "\n",
    "import torch_geometric.utils as pyg_utils\n",
    "\n",
    "from torch import Tensor\n",
    "from typing import Union, Tuple, Optional\n",
    "from torch_geometric.typing import (OptPairTensor, Adj, Size, NoneType, OptTensor)\n",
    "\n",
    "from torch.nn import Parameter, Linear\n",
    "from torch_sparse import SparseTensor, set_diag\n",
    "from torch_geometric.nn.conv import MessagePassing\n",
    "from torch_geometric.utils import remove_self_loops, add_self_loops, softmax\n",
    "\n",
    "import networkx as nx\n",
    "from deepsnap.hetero_graph import HeteroGraph\n",
    "import copy\n",
    "from copy import deepcopy\n",
    "import pickle\n",
    "\n",
    "import deepsnap\n",
    "from deepsnap.graph import Graph\n",
    "from deepsnap.batch import Batch\n",
    "from deepsnap.dataset import GraphDataset\n",
    "from deepsnap.hetero_gnn import forward_op\n",
    "from deepsnap.hetero_graph import HeteroGraph\n",
    "from sklearn.metrics import f1_score, roc_auc_score\n",
    "\n",
    "import numpy as np\n",
    "import pandas as pd\n",
    "import matplotlib.pyplot as plt\n",
    "%matplotlib inline\n",
    "\n",
    "import json\n",
    "from pathlib import Path as Data_Path\n",
    "from os import listdir\n",
    "from os.path import isfile, join\n",
    "from itertools import combinations\n",
    "from tqdm.notebook import tqdm"
   ]
  },
  {
   "cell_type": "code",
   "execution_count": 2,
   "id": "8e970e02-617b-4e7d-bc1b-15dc1142173d",
   "metadata": {
    "tags": []
   },
   "outputs": [
    {
     "name": "stdout",
     "output_type": "stream",
     "text": [
      "graph-tool version: 2.46\n"
     ]
    }
   ],
   "source": [
    "import graph_tool.all as gt\n",
    "import json\n",
    "print(\"graph-tool version: {}\".format(gt.__version__.split(' ')[0]))"
   ]
  },
  {
   "cell_type": "code",
   "execution_count": 3,
   "id": "b9918e6e-9232-4c10-917c-d0976384f35a",
   "metadata": {
    "tags": []
   },
   "outputs": [],
   "source": [
    "def json2graph(g, data_json):\n",
    "    \n",
    "    #add playlist nodes\n",
    "    playlist_len=len(data_json['playlists'])\n",
    "    playlist_attrs = []\n",
    "    for i, playlist in enumerate(data_json['playlists']):\n",
    "        playlist_attrs.append({'pl_ind': i, 'pl_name': playlist['name'], 'pl_type': 'playlist'})\n",
    " \n",
    "    for node_attrs in playlist_attrs:\n",
    "        v1 = g.add_vertex()\n",
    "        for key, value in node_attrs.items():\n",
    "            g.vp[key][v1] = value\n",
    "            \n",
    "    #add track nodes\n",
    "    track_attrs = []\n",
    "    # artist_attrs = []\n",
    "    playlist_index=0\n",
    "    edge_index=playlist_len\n",
    "    # artist_edge_list=[]\n",
    "    playlist_edge_list=[]\n",
    "    track_index_dict={}\n",
    "    # artist_track_dict={}\n",
    "                               \n",
    "    for playlist in data_json['playlists']:\n",
    "        tracks_list = playlist['tracks']\n",
    "        for track in tracks_list:\n",
    "            dict_track={'tr_uri': track['track_uri'], 'tr_name': track['track_name'], 'tr_type': 'track'}\n",
    "            if dict_track not in track_attrs:\n",
    "                track_attrs.append(dict_track)\n",
    "                track_index_dict[track['track_uri']]=edge_index\n",
    "                edge_index+=1\n",
    "            # dict_artist={'ar_uri': track['artist_uri'], 'ar_name': track['artist_name'], 'ar_type': 'artist'}\n",
    "            # if dict_artist not in artist_attrs:\n",
    "            #     artist_attrs.append(dict_artist)\n",
    "            #     if track['artist_uri'] in artist_track_dict:\n",
    "            #         artist_track_dict[track['artist_uri']].add(track['track_uri'])\n",
    "            #     else:\n",
    "            #         artist_track_dict[track['artist_uri']]={track['track_uri']}\n",
    "            playlist_edge_list.append((playlist_index,edge_index))\n",
    "            \n",
    "        playlist_index+=1\n",
    " \n",
    "    for node_attrs in track_attrs:\n",
    "        v2 = g.add_vertex()\n",
    "        for key, value in node_attrs.items():\n",
    "            g.vp[key][v2] = value\n",
    "\n",
    "    # artist_index=edge_index\n",
    "    # for node_attrs in artist_attrs:\n",
    "    #     v3 = g.add_vertex()\n",
    "    #     for track in artist_track_dict[node_attrs['ar_uri']]:\n",
    "    #         artist_edge_list.append((artist_index,track_index_dict[track]))\n",
    "    #     for key, value in node_attrs.items():\n",
    "    #         g.vp[key][v3] = value\n",
    "    #     artist_index+=1\n",
    "    # g.add_edge_list(artist_edge_list)\n",
    "    g.add_edge_list(playlist_edge_list)\n"
   ]
  },
  {
   "cell_type": "code",
   "execution_count": 4,
   "id": "f1c4be75-90d4-4f39-ae9d-58ea909f22fb",
   "metadata": {
    "tags": []
   },
   "outputs": [
    {
     "name": "stdout",
     "output_type": "stream",
     "text": [
      "16\n"
     ]
    }
   ],
   "source": [
    "gt.openmp_enabled()\n",
    "import multiprocessing\n",
    "\n",
    "# Get the number of available CPUs\n",
    "num_cpus = multiprocessing.cpu_count()\n",
    "print(num_cpus)\n",
    "gt.openmp_set_num_threads(num_cpus)"
   ]
  },
  {
   "cell_type": "code",
   "execution_count": 5,
   "id": "3d5f7685-4198-4950-a3c5-67fd2f35ff8e",
   "metadata": {
    "tags": []
   },
   "outputs": [],
   "source": [
    "final_graph = gt.Graph(directed=False)\n",
    "\n",
    "#playlist attributes\n",
    "final_graph.vp['pl_ind'] = final_graph.new_vertex_property('string')\n",
    "final_graph.vp['pl_name'] = final_graph.new_vertex_property('string')\n",
    "final_graph.vp['pl_type'] = final_graph.new_vertex_property('string')\n",
    "#track attributes\n",
    "final_graph.vp['tr_uri'] = final_graph.new_vertex_property('string')\n",
    "final_graph.vp['tr_name'] = final_graph.new_vertex_property('string')\n",
    "final_graph.vp['tr_type'] = final_graph.new_vertex_property('string')\n",
    "#artist attibutes\n",
    "final_graph.vp['ar_uri'] = final_graph.new_vertex_property('string')\n",
    "final_graph.vp['ar_name'] = final_graph.new_vertex_property('string')\n",
    "final_graph.vp['ar_type'] = final_graph.new_vertex_property('string')\n"
   ]
  },
  {
   "cell_type": "code",
   "execution_count": 6,
   "id": "b5de8712-cb51-4498-abf4-15e707456c47",
   "metadata": {
    "tags": []
   },
   "outputs": [],
   "source": [
    "import os\n",
    "folder_path = \"../data_subset/\"\n",
    "file_paths = []\n",
    "for root, dirs, files in os.walk(folder_path):\n",
    "    for file in files:\n",
    "        file_paths.append(os.path.join(root, file))"
   ]
  },
  {
   "cell_type": "code",
   "execution_count": 7,
   "id": "366bccf2-471f-4385-914f-98d3117c4d55",
   "metadata": {
    "tags": []
   },
   "outputs": [
    {
     "name": "stdout",
     "output_type": "stream",
     "text": [
      "file ../data_subset/mpd.slice.0-999.json processed\n",
      "file ../data_subset/mpd.slice.1000-1999.json processed\n"
     ]
    },
    {
     "ename": "KeyboardInterrupt",
     "evalue": "",
     "output_type": "error",
     "traceback": [
      "\u001b[0;31m---------------------------------------------------------------------------\u001b[0m",
      "\u001b[0;31mKeyboardInterrupt\u001b[0m                         Traceback (most recent call last)",
      "Cell \u001b[0;32mIn[7], line 4\u001b[0m\n\u001b[1;32m      2\u001b[0m f \u001b[38;5;241m=\u001b[39m \u001b[38;5;28mopen\u001b[39m(file)\n\u001b[1;32m      3\u001b[0m data \u001b[38;5;241m=\u001b[39m json\u001b[38;5;241m.\u001b[39mload(f)\n\u001b[0;32m----> 4\u001b[0m json2graph(final_graph, data)\n\u001b[1;32m      5\u001b[0m \u001b[38;5;28mprint\u001b[39m(\u001b[38;5;124mf\u001b[39m\u001b[38;5;124m'\u001b[39m\u001b[38;5;124mfile \u001b[39m\u001b[38;5;132;01m{\u001b[39;00mfile\u001b[38;5;132;01m}\u001b[39;00m\u001b[38;5;124m processed\u001b[39m\u001b[38;5;124m'\u001b[39m)\n",
      "Cell \u001b[0;32mIn[3], line 39\u001b[0m, in \u001b[0;36mjson2graph\u001b[0;34m(g, data_json)\u001b[0m\n\u001b[1;32m     31\u001b[0m             edge_index\u001b[38;5;241m+\u001b[39m\u001b[38;5;241m=\u001b[39m\u001b[38;5;241m1\u001b[39m\n\u001b[1;32m     32\u001b[0m         \u001b[38;5;66;03m# dict_artist={'ar_uri': track['artist_uri'], 'ar_name': track['artist_name'], 'ar_type': 'artist'}\u001b[39;00m\n\u001b[1;32m     33\u001b[0m         \u001b[38;5;66;03m# if dict_artist not in artist_attrs:\u001b[39;00m\n\u001b[1;32m     34\u001b[0m         \u001b[38;5;66;03m#     artist_attrs.append(dict_artist)\u001b[39;00m\n\u001b[0;32m   (...)\u001b[0m\n\u001b[1;32m     37\u001b[0m         \u001b[38;5;66;03m#     else:\u001b[39;00m\n\u001b[1;32m     38\u001b[0m         \u001b[38;5;66;03m#         artist_track_dict[track['artist_uri']]={track['track_uri']}\u001b[39;00m\n\u001b[0;32m---> 39\u001b[0m         playlist_edge_list\u001b[38;5;241m.\u001b[39mappend((playlist_index,edge_index))\n\u001b[1;32m     41\u001b[0m     playlist_index\u001b[38;5;241m+\u001b[39m\u001b[38;5;241m=\u001b[39m\u001b[38;5;241m1\u001b[39m\n\u001b[1;32m     43\u001b[0m \u001b[38;5;28;01mfor\u001b[39;00m node_attrs \u001b[38;5;129;01min\u001b[39;00m track_attrs:\n",
      "\u001b[0;31mKeyboardInterrupt\u001b[0m: "
     ]
    }
   ],
   "source": [
    "for file in file_paths:\n",
    "    f = open(file)\n",
    "    data = json.load(f)\n",
    "    json2graph(final_graph, data)\n",
    "    print(f'file {file} processed')"
   ]
  },
  {
   "cell_type": "code",
   "execution_count": null,
   "id": "203cf7f0-1b9e-4bbd-b71e-93c45bfeaa86",
   "metadata": {
    "tags": []
   },
   "outputs": [],
   "source": [
    "print(\"Number of vertices:\", final_graph.num_vertices())\n",
    "print(\"Number of edges:\", final_graph.num_edges())"
   ]
  },
  {
   "cell_type": "code",
   "execution_count": null,
   "id": "fb230432-d8d1-4ddf-a4b5-083e907538fd",
   "metadata": {
    "tags": []
   },
   "outputs": [],
   "source": [
    "count_pl = sum(1 for v in final_graph.vertices() if final_graph.vp.pl_type[v] == \"playlist\")\n",
    "print(f'num_playlists: {count_pl}')\n",
    "count_tr = sum(1 for v in final_graph.vertices() if final_graph.vp.tr_type[v] == \"track\")\n",
    "print(f'num_tracks: {count_tr}')\n",
    "count_ar = sum(1 for v in final_graph.vertices() if final_graph.vp.ar_type[v] == \"artist\")\n",
    "print(f'num_artist: {count_ar}')"
   ]
  },
  {
   "cell_type": "code",
   "execution_count": null,
   "id": "d9c28e38-dd5a-4272-b74a-3a38a0a51fdf",
   "metadata": {},
   "outputs": [],
   "source": [
    "attr_dict = {}\n",
    "for node in G.vertices():\n",
    "    attr = G.vp.name[node]\n",
    "    if attr in attr_dict:\n",
    "        attr_dict[attr].append(node)\n",
    "    else:\n",
    "        attr_dict[attr] = [node]"
   ]
  },
  {
   "cell_type": "code",
   "execution_count": null,
   "id": "b95a20c2-1ae2-4e24-9dd5-4ff308cdae8f",
   "metadata": {},
   "outputs": [],
   "source": [
    "# import gzip\n",
    "# with gzip.open(\"graph_pta_100.pkl.gz\", \"wb\") as f:\n",
    "#     pickle.dump(final_graph, f)"
   ]
  },
  {
   "cell_type": "code",
   "execution_count": 29,
   "id": "4430f0c6-2738-4d4c-840e-4228b6e4ea8a",
   "metadata": {
    "tags": []
   },
   "outputs": [],
   "source": [
    "with open(\"graph_pt_100.pickle\", \"wb\") as f:\n",
    "    pickle.dump(final_graph, f)"
   ]
  },
  {
   "cell_type": "code",
   "execution_count": null,
   "id": "0ff52ebc-ac60-4512-8c2f-d37b271f9396",
   "metadata": {},
   "outputs": [],
   "source": [
    "#check property names\n",
    "\n",
    "# vp1 = final_graph.vp[\"pl_name\"]\n",
    "# for v in final_graph.vertices():\n",
    "#     prop_value = vp1[v]\n",
    "#     print(prop_value)"
   ]
  },
  {
   "cell_type": "code",
   "execution_count": null,
   "id": "b959e6c4-24ed-4bc8-b092-c7745f9c394a",
   "metadata": {},
   "outputs": [],
   "source": [
    "#separate pickling (if required)\n",
    "\n",
    "# with open(\"final_graph.pickle\", \"rb\") as f:\n",
    "#     final_graph = pickle.load(f)\n",
    "    # pl_name = pickle.load(f)\n",
    "    # pl_type = pickle.load(f)\n",
    "    # tr_uri = pickle.load(f)\n",
    "    # tr_name = pickle.load(f)\n",
    "    # tr_type = pickle.load(f)\n",
    "\n",
    "# # set the vertex properties to the graph\n",
    "# final_graph.vp[\"pl_name\"] = pl_name\n",
    "# final_graph.vp[\"pl_type\"] = pl_type\n",
    "# final_graph.vp[\"tr_uri\"] = tr_uri\n",
    "# final_graph.vp[\"tr_name\"] = tr_name\n",
    "# final_graph.vp[\"tr_type\"] = tr_type"
   ]
  },
  {
   "cell_type": "code",
   "execution_count": null,
   "id": "f03151a6-288f-4a44-ab21-bf0c7ee15bb5",
   "metadata": {},
   "outputs": [],
   "source": []
  },
  {
   "cell_type": "code",
   "execution_count": null,
   "id": "d9b4d5ee-1fe8-469f-8f16-ba9d4f06c466",
   "metadata": {},
   "outputs": [],
   "source": []
  }
 ],
 "metadata": {
  "kernelspec": {
   "display_name": "Python 3 (ipykernel)",
   "language": "python",
   "name": "python3"
  },
  "language_info": {
   "codemirror_mode": {
    "name": "ipython",
    "version": 3
   },
   "file_extension": ".py",
   "mimetype": "text/x-python",
   "name": "python",
   "nbconvert_exporter": "python",
   "pygments_lexer": "ipython3",
   "version": "3.11.0"
  }
 },
 "nbformat": 4,
 "nbformat_minor": 5
}
