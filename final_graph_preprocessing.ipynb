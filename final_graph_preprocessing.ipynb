{
 "cells": [
  {
   "cell_type": "code",
   "execution_count": 18,
   "id": "2aeeb56f-5a86-4ab4-89c6-351798393470",
   "metadata": {},
   "outputs": [
    {
     "name": "stdout",
     "output_type": "stream",
     "text": [
      "tensor([0.], device='cuda:0')\n"
     ]
    }
   ],
   "source": [
    "import torch\n",
    "torch.cuda.is_available()\n",
    "print(torch.zeros(1).cuda())"
   ]
  },
  {
   "cell_type": "code",
   "execution_count": 19,
   "id": "72dab765-7f9b-41da-afdf-d8a585a451a0",
   "metadata": {},
   "outputs": [
    {
     "name": "stdout",
     "output_type": "stream",
     "text": [
      "2.1.0\n"
     ]
    }
   ],
   "source": [
    "import torch\n",
    "import torch_geometric\n",
    "import torch_geometric.nn as pyg_nn\n",
    "from torch_sparse import SparseTensor, matmul\n",
    "from torch.utils.data import DataLoader\n",
    "import torch.nn as nn\n",
    "import torch.nn.functional as F\n",
    "from torch_geometric.nn import SAGEConv\n",
    "print(torch_geometric.__version__)\n",
    "\n",
    "import torch_scatter\n",
    "import torch.nn as nn\n",
    "import torch.nn.functional as F\n",
    "\n",
    "import torch_geometric.utils as pyg_utils\n",
    "\n",
    "from torch import Tensor\n",
    "from typing import Union, Tuple, Optional\n",
    "from torch_geometric.typing import (OptPairTensor, Adj, Size, NoneType, OptTensor)\n",
    "\n",
    "from torch.nn import Parameter, Linear\n",
    "from torch_sparse import SparseTensor, set_diag\n",
    "from torch_geometric.nn.conv import MessagePassing\n",
    "from torch_geometric.utils import remove_self_loops, add_self_loops, softmax\n",
    "\n",
    "import networkx as nx\n",
    "from deepsnap.hetero_graph import HeteroGraph\n",
    "import copy\n",
    "from copy import deepcopy\n",
    "import pickle\n",
    "\n",
    "import deepsnap\n",
    "from deepsnap.graph import Graph\n",
    "from deepsnap.batch import Batch\n",
    "from deepsnap.dataset import GraphDataset\n",
    "from deepsnap.hetero_gnn import forward_op\n",
    "from deepsnap.hetero_graph import HeteroGraph\n",
    "from sklearn.metrics import f1_score, roc_auc_score\n",
    "\n",
    "import numpy as np\n",
    "import pandas as pd\n",
    "import matplotlib.pyplot as plt\n",
    "%matplotlib inline\n",
    "\n",
    "import json\n",
    "from pathlib import Path as Data_Path\n",
    "from os import listdir\n",
    "from os.path import isfile, join\n",
    "from itertools import combinations\n",
    "from tqdm.notebook import tqdm"
   ]
  },
  {
   "cell_type": "code",
   "execution_count": 20,
   "id": "8e970e02-617b-4e7d-bc1b-15dc1142173d",
   "metadata": {},
   "outputs": [
    {
     "name": "stdout",
     "output_type": "stream",
     "text": [
      "graph-tool version: 2.46\n"
     ]
    }
   ],
   "source": [
    "import graph_tool.all as gt\n",
    "import json\n",
    "print(\"graph-tool version: {}\".format(gt.__version__.split(' ')[0]))"
   ]
  },
  {
   "cell_type": "code",
   "execution_count": 26,
   "id": "b9918e6e-9232-4c10-917c-d0976384f35a",
   "metadata": {},
   "outputs": [],
   "source": [
    "def json2graph(g, data_json):\n",
    "    \n",
    "    #add playlist nodes\n",
    "    playlist_len=len(data_json['playlists'])\n",
    "    playlist_attrs = []\n",
    "    for playlist in data_json['playlists']:\n",
    "        playlist_attrs.append({'pl_name': playlist['name'], 'pl_type': 'playlist'})\n",
    " \n",
    "    for node_attrs in playlist_attrs:\n",
    "        v1 = g.add_vertex()\n",
    "        for key, value in node_attrs.items():\n",
    "            g.vp[key][v1] = value\n",
    "            \n",
    "    #add track nodes\n",
    "    track_attrs = []\n",
    "    artist_attrs = []\n",
    "    playlist_index=0\n",
    "    edge_index=playlist_len\n",
    "    artist_edge_list=[]\n",
    "    playlist_edge_list=[]\n",
    "    track_index_dict={}\n",
    "    artist_track_dict={}\n",
    "                               \n",
    "    for playlist in data_json['playlists']:\n",
    "        tracks_list = playlist['tracks']\n",
    "        for track in tracks_list:\n",
    "            dict_track={'tr_uri': track['track_uri'], 'tr_name': track['track_name'], 'tr_type': 'track'}\n",
    "            if dict_track not in track_attrs:\n",
    "                track_attrs.append(dict_track)\n",
    "                track_index_dict[track['track_uri']]=edge_index\n",
    "                edge_index+=1\n",
    "            dict_artist={'ar_uri': track['artist_uri'], 'ar_name': track['artist_name'], 'ar_type': 'artist'}\n",
    "            if dict_artist not in artist_attrs:\n",
    "                artist_attrs.append(dict_artist)\n",
    "                if track['artist_uri'] in artist_track_dict:\n",
    "                    artist_track_dict[track['artist_uri']].add(track['track_uri'])\n",
    "                else:\n",
    "                    artist_track_dict[track['artist_uri']]={track['track_uri']}\n",
    "            playlist_edge_list.append((playlist_index,edge_index))\n",
    "            \n",
    "        playlist_index+=1\n",
    " \n",
    "    for node_attrs in track_attrs:\n",
    "        v2 = g.add_vertex()\n",
    "        for key, value in node_attrs.items():\n",
    "            g.vp[key][v2] = value\n",
    "\n",
    "    artist_index=edge_index\n",
    "    for node_attrs in artist_attrs:\n",
    "        v3 = g.add_vertex()\n",
    "        for track in artist_track_dict[node_attrs['ar_uri']]:\n",
    "            artist_edge_list.append((artist_index,track_index_dict[track]))\n",
    "        for key, value in node_attrs.items():\n",
    "            g.vp[key][v3] = value\n",
    "        artist_index+=1\n",
    "    g.add_edge_list(artist_edge_list)\n",
    "    g.add_edge_list(playlist_edge_list)\n"
   ]
  },
  {
   "cell_type": "code",
   "execution_count": 27,
   "id": "3d5f7685-4198-4950-a3c5-67fd2f35ff8e",
   "metadata": {},
   "outputs": [],
   "source": [
    "final_graph = gt.Graph(directed=False)\n",
    "\n",
    "#playlist attributes\n",
    "final_graph.vp['pl_name'] = final_graph.new_vertex_property('string')\n",
    "final_graph.vp['pl_type'] = final_graph.new_vertex_property('string')\n",
    "#track attributes\n",
    "final_graph.vp['tr_uri'] = final_graph.new_vertex_property('string')\n",
    "final_graph.vp['tr_name'] = final_graph.new_vertex_property('string')\n",
    "final_graph.vp['tr_type'] = final_graph.new_vertex_property('string')\n",
    "#artist attibutes\n",
    "final_graph.vp['ar_uri'] = final_graph.new_vertex_property('string')\n",
    "final_graph.vp['ar_name'] = final_graph.new_vertex_property('string')\n",
    "final_graph.vp['ar_type'] = final_graph.new_vertex_property('string')\n"
   ]
  },
  {
   "cell_type": "code",
   "execution_count": 28,
   "id": "b5de8712-cb51-4498-abf4-15e707456c47",
   "metadata": {},
   "outputs": [
    {
     "name": "stdout",
     "output_type": "stream",
     "text": [
      "file ../data/mpd.slice.30000-30999.json processed\n",
      "file ../data/mpd.slice.31000-31999.json processed\n",
      "file ../data/mpd.slice.32000-32999.json processed\n",
      "file ../data/mpd.slice.33000-33999.json processed\n",
      "file ../data/mpd.slice.34000-34999.json processed\n",
      "file ../data/mpd.slice.35000-35999.json processed\n",
      "file ../data/mpd.slice.36000-36999.json processed\n",
      "file ../data/mpd.slice.37000-37999.json processed\n",
      "file ../data/mpd.slice.38000-38999.json processed\n",
      "file ../data/mpd.slice.39000-39999.json processed\n",
      "file ../data/mpd.slice.4000-4999.json processed\n",
      "file ../data/mpd.slice.40000-40999.json processed\n",
      "file ../data/mpd.slice.41000-41999.json processed\n",
      "file ../data/mpd.slice.42000-42999.json processed\n",
      "file ../data/mpd.slice.43000-43999.json processed\n",
      "file ../data/mpd.slice.44000-44999.json processed\n",
      "file ../data/mpd.slice.45000-45999.json processed\n",
      "file ../data/mpd.slice.46000-46999.json processed\n",
      "file ../data/mpd.slice.47000-47999.json processed\n",
      "file ../data/mpd.slice.48000-48999.json processed\n",
      "file ../data/mpd.slice.49000-49999.json processed\n",
      "file ../data/mpd.slice.5000-5999.json processed\n",
      "file ../data/mpd.slice.50000-50999.json processed\n",
      "file ../data/mpd.slice.51000-51999.json processed\n",
      "file ../data/mpd.slice.52000-52999.json processed\n",
      "file ../data/mpd.slice.53000-53999.json processed\n",
      "file ../data/mpd.slice.54000-54999.json processed\n",
      "file ../data/mpd.slice.55000-55999.json processed\n",
      "file ../data/mpd.slice.56000-56999.json processed\n",
      "file ../data/mpd.slice.57000-57999.json processed\n",
      "file ../data/mpd.slice.58000-58999.json processed\n",
      "file ../data/mpd.slice.59000-59999.json processed\n",
      "file ../data/mpd.slice.6000-6999.json processed\n",
      "file ../data/mpd.slice.60000-60999.json processed\n",
      "file ../data/mpd.slice.61000-61999.json processed\n",
      "file ../data/mpd.slice.62000-62999.json processed\n",
      "file ../data/mpd.slice.63000-63999.json processed\n",
      "file ../data/mpd.slice.64000-64999.json processed\n",
      "file ../data/mpd.slice.65000-65999.json processed\n",
      "file ../data/mpd.slice.66000-66999.json processed\n",
      "file ../data/mpd.slice.67000-67999.json processed\n",
      "file ../data/mpd.slice.68000-68999.json processed\n",
      "file ../data/mpd.slice.69000-69999.json processed\n",
      "file ../data/mpd.slice.7000-7999.json processed\n",
      "file ../data/mpd.slice.70000-70999.json processed\n",
      "file ../data/mpd.slice.71000-71999.json processed\n",
      "file ../data/mpd.slice.72000-72999.json processed\n",
      "file ../data/mpd.slice.73000-73999.json processed\n",
      "file ../data/mpd.slice.74000-74999.json processed\n",
      "file ../data/mpd.slice.75000-75999.json processed\n",
      "file ../data/mpd.slice.76000-76999.json processed\n",
      "file ../data/mpd.slice.77000-77999.json processed\n",
      "file ../data/mpd.slice.78000-78999.json processed\n",
      "file ../data/mpd.slice.79000-79999.json processed\n",
      "file ../data/mpd.slice.8000-8999.json processed\n",
      "file ../data/mpd.slice.80000-80999.json processed\n",
      "file ../data/mpd.slice.81000-81999.json processed\n",
      "file ../data/mpd.slice.82000-82999.json processed\n",
      "file ../data/mpd.slice.83000-83999.json processed\n",
      "file ../data/mpd.slice.84000-84999.json processed\n",
      "file ../data/mpd.slice.85000-85999.json processed\n",
      "file ../data/mpd.slice.86000-86999.json processed\n",
      "file ../data/mpd.slice.87000-87999.json processed\n",
      "file ../data/mpd.slice.88000-88999.json processed\n",
      "file ../data/mpd.slice.89000-89999.json processed\n",
      "file ../data/mpd.slice.9000-9999.json processed\n",
      "file ../data/mpd.slice.90000-90999.json processed\n",
      "file ../data/mpd.slice.91000-91999.json processed\n",
      "file ../data/mpd.slice.92000-92999.json processed\n",
      "file ../data/mpd.slice.93000-93999.json processed\n",
      "file ../data/mpd.slice.94000-94999.json processed\n",
      "file ../data/mpd.slice.95000-95999.json processed\n",
      "file ../data/mpd.slice.96000-96999.json processed\n",
      "file ../data/mpd.slice.97000-97999.json processed\n",
      "file ../data/mpd.slice.98000-98999.json processed\n",
      "file ../data/mpd.slice.99000-99999.json processed\n"
     ]
    }
   ],
   "source": [
    "import os\n",
    "folder_path = \"../data/\"\n",
    "file_paths = []\n",
    "for root, dirs, files in os.walk(folder_path):\n",
    "    for file in files:\n",
    "        file_paths.append(os.path.join(root, file))\n",
    "        \n",
    "        \n",
    "for file in file_paths:\n",
    "    f = open(file)\n",
    "    data = json.load(f)\n",
    "    json2graph(final_graph, data)\n",
    "    print(f'file {file} processed')"
   ]
  },
  {
   "cell_type": "code",
   "execution_count": 29,
   "id": "203cf7f0-1b9e-4bbd-b71e-93c45bfeaa86",
   "metadata": {},
   "outputs": [
    {
     "name": "stdout",
     "output_type": "stream",
     "text": [
      "Number of vertices: 3491708\n",
      "Number of edges: 5822388\n"
     ]
    }
   ],
   "source": [
    "print(\"Number of vertices:\", final_graph.num_vertices())\n",
    "print(\"Number of edges:\", final_graph.num_edges())"
   ]
  },
  {
   "cell_type": "code",
   "execution_count": 30,
   "id": "fb230432-d8d1-4ddf-a4b5-083e907538fd",
   "metadata": {},
   "outputs": [
    {
     "name": "stdout",
     "output_type": "stream",
     "text": [
      "num_playlists: 76000\n",
      "num_tracks: 2662703\n",
      "num_artist: 753005\n"
     ]
    }
   ],
   "source": [
    "count_pl = sum(1 for v in final_graph.vertices() if final_graph.vp.pl_type[v] == \"playlist\")\n",
    "print(f'num_playlists: {count_pl}')\n",
    "count_tr = sum(1 for v in final_graph.vertices() if final_graph.vp.tr_type[v] == \"track\")\n",
    "print(f'num_tracks: {count_tr}')\n",
    "count_ar = sum(1 for v in final_graph.vertices() if final_graph.vp.ar_type[v] == \"artist\")\n",
    "print(f'num_artist: {count_ar}')"
   ]
  },
  {
   "cell_type": "code",
   "execution_count": 31,
   "id": "4430f0c6-2738-4d4c-840e-4228b6e4ea8a",
   "metadata": {},
   "outputs": [],
   "source": [
    "with open(\"final_graph_pta.pickle\", \"wb\") as f:\n",
    "    pickle.dump(final_graph, f)"
   ]
  },
  {
   "cell_type": "code",
   "execution_count": 33,
   "id": "0ff52ebc-ac60-4512-8c2f-d37b271f9396",
   "metadata": {},
   "outputs": [],
   "source": [
    "#check property names\n",
    "\n",
    "# vp1 = final_graph.vp[\"pl_name\"]\n",
    "# for v in final_graph.vertices():\n",
    "#     prop_value = vp1[v]\n",
    "#     print(prop_value)"
   ]
  },
  {
   "cell_type": "code",
   "execution_count": 34,
   "id": "b959e6c4-24ed-4bc8-b092-c7745f9c394a",
   "metadata": {},
   "outputs": [],
   "source": [
    "#separate pickling (if required)\n",
    "\n",
    "# with open(\"final_graph.pickle\", \"rb\") as f:\n",
    "#     final_graph = pickle.load(f)\n",
    "    # pl_name = pickle.load(f)\n",
    "    # pl_type = pickle.load(f)\n",
    "    # tr_uri = pickle.load(f)\n",
    "    # tr_name = pickle.load(f)\n",
    "    # tr_type = pickle.load(f)\n",
    "\n",
    "# # set the vertex properties to the graph\n",
    "# final_graph.vp[\"pl_name\"] = pl_name\n",
    "# final_graph.vp[\"pl_type\"] = pl_type\n",
    "# final_graph.vp[\"tr_uri\"] = tr_uri\n",
    "# final_graph.vp[\"tr_name\"] = tr_name\n",
    "# final_graph.vp[\"tr_type\"] = tr_type"
   ]
  },
  {
   "cell_type": "code",
   "execution_count": null,
   "id": "f03151a6-288f-4a44-ab21-bf0c7ee15bb5",
   "metadata": {},
   "outputs": [],
   "source": []
  },
  {
   "cell_type": "code",
   "execution_count": null,
   "id": "d9b4d5ee-1fe8-469f-8f16-ba9d4f06c466",
   "metadata": {},
   "outputs": [],
   "source": []
  }
 ],
 "metadata": {
  "kernelspec": {
   "display_name": "Python 3 (ipykernel)",
   "language": "python",
   "name": "python3"
  },
  "language_info": {
   "codemirror_mode": {
    "name": "ipython",
    "version": 3
   },
   "file_extension": ".py",
   "mimetype": "text/x-python",
   "name": "python",
   "nbconvert_exporter": "python",
   "pygments_lexer": "ipython3",
   "version": "3.11.0"
  }
 },
 "nbformat": 4,
 "nbformat_minor": 5
}
