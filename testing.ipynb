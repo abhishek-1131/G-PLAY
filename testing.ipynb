{
 "cells": [
  {
   "cell_type": "code",
   "execution_count": 15,
   "id": "089916e0-d3a9-46d6-a1b0-f3d1d46c4728",
   "metadata": {
    "tags": []
   },
   "outputs": [
    {
     "name": "stdout",
     "output_type": "stream",
     "text": [
      "tensor([0.], device='cuda:0')\n",
      "2.1.0\n",
      "graph-tool version: 2.46\n"
     ]
    }
   ],
   "source": [
    "import torch\n",
    "torch.cuda.is_available()\n",
    "print(torch.zeros(1).cuda())\n",
    "\n",
    "import torch_geometric\n",
    "import torch_geometric.nn as pyg_nn\n",
    "from torch_sparse import SparseTensor, matmul\n",
    "from torch.utils.data import DataLoader\n",
    "import torch.nn as nn\n",
    "import torch.nn.functional as F\n",
    "from torch_geometric.nn import SAGEConv\n",
    "print(torch_geometric.__version__)\n",
    "\n",
    "import torch_scatter\n",
    "import torch.nn as nn\n",
    "import torch.nn.functional as F\n",
    "\n",
    "import torch_geometric.utils as pyg_utils\n",
    "\n",
    "from torch import Tensor\n",
    "from typing import Union, Tuple, Optional\n",
    "from torch_geometric.typing import (OptPairTensor, Adj, Size, NoneType, OptTensor)\n",
    "\n",
    "from torch.nn import Parameter, Linear\n",
    "from torch_sparse import SparseTensor, set_diag\n",
    "from torch_geometric.nn.conv import MessagePassing\n",
    "from torch_geometric.utils import remove_self_loops, add_self_loops, softmax\n",
    "\n",
    "import networkx as nx\n",
    "from deepsnap.hetero_graph import HeteroGraph\n",
    "import copy\n",
    "from copy import deepcopy\n",
    "import pickle\n",
    "\n",
    "import deepsnap\n",
    "from deepsnap.graph import Graph\n",
    "from deepsnap.batch import Batch\n",
    "from deepsnap.dataset import GraphDataset\n",
    "from deepsnap.hetero_gnn import forward_op\n",
    "from deepsnap.hetero_graph import HeteroGraph\n",
    "from sklearn.metrics import f1_score, roc_auc_score\n",
    "\n",
    "import numpy as np\n",
    "import pandas as pd\n",
    "import matplotlib.pyplot as plt\n",
    "%matplotlib inline\n",
    "\n",
    "import json\n",
    "from pathlib import Path as Data_Path\n",
    "from os import listdir\n",
    "from os.path import isfile, join\n",
    "from itertools import combinations\n",
    "from tqdm.notebook import tqdm\n",
    "\n",
    "import graph_tool.all as gt\n",
    "import json\n",
    "print(\"graph-tool version: {}\".format(gt.__version__.split(' ')[0]))"
   ]
  },
  {
   "cell_type": "code",
   "execution_count": 16,
   "id": "33b44dcc-a8f9-42ad-8d4c-bf6bb5459424",
   "metadata": {
    "tags": []
   },
   "outputs": [],
   "source": [
    "import pickle\n",
    "\n",
    "with open(\"../graph_pt_100.pickle\", \"rb\") as f:\n",
    "    final_graph = pickle.load(f)"
   ]
  },
  {
   "cell_type": "code",
   "execution_count": 17,
   "id": "c1d4dac8-bd7d-448d-a997-38828f47670f",
   "metadata": {
    "tags": []
   },
   "outputs": [
    {
     "name": "stdout",
     "output_type": "stream",
     "text": [
      "Number of vertices: 3644438\n",
      "Number of edges: 6746550\n"
     ]
    }
   ],
   "source": [
    "print(\"Number of vertices:\", final_graph.num_vertices())\n",
    "print(\"Number of edges:\", final_graph.num_edges())"
   ]
  },
  {
   "cell_type": "code",
   "execution_count": 18,
   "id": "82ce8b6a-52c4-4ea4-8abc-9ddf8076e1cf",
   "metadata": {
    "tags": []
   },
   "outputs": [
    {
     "name": "stdout",
     "output_type": "stream",
     "text": [
      "without artists as nodes:\n",
      "Number of vertices: 3644438\n",
      "Number of edges: 6746550\n"
     ]
    }
   ],
   "source": [
    "print('without artists as nodes:')\n",
    "print(\"Number of vertices:\", final_graph.num_vertices())\n",
    "print(\"Number of edges:\", final_graph.num_edges())"
   ]
  },
  {
   "cell_type": "code",
   "execution_count": 19,
   "id": "2a1d7fb2-5821-48d9-9f8d-2bff99d281ad",
   "metadata": {
    "tags": []
   },
   "outputs": [],
   "source": [
    "# count_pl = sum(1 for v in final_graph.vertices() if final_graph.vp.pl_type[v] == \"playlist\")\n",
    "# print(f'num_playlists: {count_pl}')\n",
    "# count_tr = sum(1 for v in final_graph.vertices() if final_graph.vp.tr_type[v] == \"track\")\n",
    "# print(f'num_tracks: {count_tr}')\n",
    "# count_ar = sum(1 for v in final_graph.vertices() if final_graph.vp.ar_type[v] == \"artist\")\n",
    "# print(f'num_artist: {count_ar}')"
   ]
  },
  {
   "cell_type": "code",
   "execution_count": 20,
   "id": "b3ff9dcb-d4d0-4d0e-96fd-87d382133bdb",
   "metadata": {
    "tags": []
   },
   "outputs": [
    {
     "name": "stdout",
     "output_type": "stream",
     "text": [
      "without artists as nodes:\n",
      "num_playlists: 102000\n",
      "num_tracks: 3542438\n",
      "num_artist: 0\n"
     ]
    }
   ],
   "source": [
    "print('without artists as nodes:')\n",
    "count_pl = sum(1 for v in final_graph.vertices() if final_graph.vp.pl_type[v] == \"playlist\")\n",
    "print(f'num_playlists: {count_pl}')\n",
    "count_tr = sum(1 for v in final_graph.vertices() if final_graph.vp.tr_type[v] == \"track\")\n",
    "print(f'num_tracks: {count_tr}')\n",
    "count_ar = sum(1 for v in final_graph.vertices() if final_graph.vp.ar_type[v] == \"artist\")\n",
    "print(f'num_artist: {count_ar}')"
   ]
  },
  {
   "cell_type": "code",
   "execution_count": 21,
   "id": "f07f7199-da31-4214-b161-fb78c4bd3fbd",
   "metadata": {
    "tags": []
   },
   "outputs": [],
   "source": [
    "### Removal of duplicate nodes from pickle file\n",
    "\n",
    "\n",
    "# prop_name = \"pl_type\"\n",
    "\n",
    "# # Create a dictionary of property values to vertex IDs\n",
    "# vertex_dict = {}\n",
    "# for v in final_graph.vertices():\n",
    "#     value = final_graph.vp[prop_name][v]\n",
    "#     if value not in vertex_dict:\n",
    "#         vertex_dict[value] = [int(v)]\n",
    "#     else:\n",
    "#         vertex_dict[value].append(int(v))\n",
    "\n",
    "# # Remove duplicate nodes\n",
    "# for value, ids in vertex_dict.items():\n",
    "#     if len(ids) > 1:\n",
    "#         print(value,ids)\n",
    "#         # # Merge the duplicate nodes into the first node\n",
    "#         # first_id = ids[0]\n",
    "#         # for other_id in ids[1:]:\n",
    "#         #     final_graph.vertex(first_id).out_edges()[:] = gt.find_edge(final_graph, final_graph.vertex(first_id), final_graph.vertex(other_id))\n",
    "#         #     final_graph.vertex(first_id).out_edges()[:] = gt.find_edge(final_graph, final_graph.vertex(other_id), final_graph.vertex(first_id))\n",
    "#         #     final_graph.remove_vertex(final_graph.vertex(other_id))\n",
    "\n",
    "\n",
    "# print(\"Number of vertices:\", final_graph.num_vertices())\n",
    "# print(\"Number of edges:\", final_graph.num_edges())"
   ]
  },
  {
   "cell_type": "markdown",
   "id": "7dfc727a-3d43-464c-80cc-a632d1734eaf",
   "metadata": {},
   "source": [
    "### Largest component"
   ]
  },
  {
   "cell_type": "markdown",
   "id": "da3c0c05-68c6-472b-bc4a-82b34f522814",
   "metadata": {
    "tags": []
   },
   "source": [
    "#### Graph-tool"
   ]
  },
  {
   "cell_type": "code",
   "execution_count": 22,
   "id": "cbdef74b-ab91-42cd-a3a8-c6417616e4dc",
   "metadata": {
    "tags": []
   },
   "outputs": [],
   "source": [
    "largest_comp = gt.extract_largest_component(final_graph)\n",
    "# largest_comp = gt.GraphView(final_graph, vfilt = gt.label_largest_component(final_graph))"
   ]
  },
  {
   "cell_type": "code",
   "execution_count": 23,
   "id": "e55c0969-d7e1-4f03-8944-c69bc2d3c082",
   "metadata": {
    "tags": []
   },
   "outputs": [
    {
     "name": "stdout",
     "output_type": "stream",
     "text": [
      "no artists:\n",
      "Number of vertices: 38565\n",
      "Number of edges: 6746550\n"
     ]
    }
   ],
   "source": [
    "print('no artists:')\n",
    "print(\"Number of vertices:\", largest_comp.num_vertices()) \n",
    "print(\"Number of edges:\", largest_comp.num_edges())"
   ]
  },
  {
   "cell_type": "code",
   "execution_count": 24,
   "id": "f262e497-bab7-4459-b4c6-ffbd4d889e83",
   "metadata": {
    "tags": []
   },
   "outputs": [
    {
     "name": "stdout",
     "output_type": "stream",
     "text": [
      "no artists stats:\n",
      "----------------\n",
      "num_playlists: 2999\n",
      "num_tracks: 35566\n",
      "num_artist: 0\n"
     ]
    }
   ],
   "source": [
    "print('no artists stats:')\n",
    "print('----------------')\n",
    "count_pl = sum(1 for v in largest_comp.vertices() if largest_comp.vp.pl_type[v] == \"playlist\")\n",
    "print(f'num_playlists: {count_pl}')\n",
    "count_tr = sum(1 for v in largest_comp.vertices() if largest_comp.vp.tr_type[v] == \"track\")\n",
    "print(f'num_tracks: {count_tr}')\n",
    "count_ar = sum(1 for v in largest_comp.vertices() if largest_comp.vp.ar_type[v] == \"artist\")\n",
    "print(f'num_artist: {count_ar}')"
   ]
  },
  {
   "cell_type": "code",
   "execution_count": 25,
   "id": "0c1e9154-e09f-436d-95b9-cd91d9a37bce",
   "metadata": {
    "tags": []
   },
   "outputs": [],
   "source": [
    "# #### Networkx\n",
    "# nx_graph = nx.Graph()\n",
    "# for node in final_graph.vertices():\n",
    "#     nx_graph.add_node(int(node))\n",
    "# for edge in final_graph.edges():\n",
    "#     nx_graph.add_edge(int(edge.source()), int(edge.target()))\n",
    "\n",
    "# from networkx.algorithms.components import is_connected\n",
    "# is_connected(nx_graph)\n",
    "\n",
    "# largest_cc = max(nx.connected_components(nx_graph), key=len)\n",
    "# nx_largest_comp = nx.Graph(nx_graph.subgraph(largest_cc))\n",
    "# print('Num nodes:', nx_largest_comp.number_of_nodes(), '. Num edges:', nx_largest_comp.number_of_edges())"
   ]
  },
  {
   "cell_type": "markdown",
   "id": "3aa7eeef-d91c-4a0e-9a33-e2593ccedc3a",
   "metadata": {},
   "source": [
    "### Dataframe generation for EDA"
   ]
  },
  {
   "cell_type": "code",
   "execution_count": 26,
   "id": "9f164b8d-ec9a-493c-8417-d5ac9de71ea5",
   "metadata": {
    "tags": []
   },
   "outputs": [],
   "source": [
    "def generate_playlist_df(playlist_id, playlist_json):\n",
    "    cols = ['plst_id', 'plst_name', 'track_id', 'track_name']\n",
    "    data_col = []\n",
    "    plst_name = playlist_json['name']\n",
    "    \n",
    "    for track in playlist_json['tracks']:\n",
    "        track_id = ''.join(track['track_uri'].split(':')[2:])\n",
    "        data_col.append([f'plst_{playlist_id}', plst_name, track_id, track['track_name']])\n",
    "        \n",
    "    plst_df = pd.DataFrame(data=data_col, columns=cols)\n",
    "    return plst_df\n",
    "\n",
    "def generate_file_df(start_index, file_json):\n",
    "    dfs = []\n",
    "    for i, plst_json in enumerate(file_json['playlists']):\n",
    "        dfs.append(generate_playlist_df(start_index + i, plst_json))\n",
    "        \n",
    "    df_sum = pd.concat(dfs)\n",
    "    return df_sum\n",
    "\n",
    "def generate_spotify_df(data_path, start_index=None, end_index=None):\n",
    "    assert (start_index is None and end_index is None) or \\\n",
    "        (start_index is not None and end_index is not None), 'Set both or none indices.'\n",
    "    json_names = [f for f in listdir(data_path) if isfile(join(data_path, f)) and '.json' in f]\n",
    "    \n",
    "    num_playlists = start_index if start_index is not None else 0\n",
    "    section = json_names if start_index is None else json_names[start_index:end_index]\n",
    "    dfs = []\n",
    "    \n",
    "    for file_name in tqdm(section, desc='Files processed: ', unit='files', total=len(section)):\n",
    "        with open(join(data_path, file_name)) as json_file:\n",
    "            data = json.load(json_file)\n",
    "            \n",
    "        dfs.append(generate_file_df(num_playlists, data))\n",
    "        num_playlists += len(data['playlists'])\n",
    "        \n",
    "    df_total = pd.concat(dfs)\n",
    "    return df_total\n",
    "\n",
    "# data_path = '../data/'\n",
    "# df = generate_spotify_df(data_path, 0, 100)"
   ]
  },
  {
   "cell_type": "markdown",
   "id": "b30978f4-29e7-4fb8-91b1-f435007437a2",
   "metadata": {},
   "source": [
    "### N-hop neighbourhood"
   ]
  },
  {
   "cell_type": "code",
   "execution_count": 27,
   "id": "590c5c22-2819-4ae6-88cc-7b97ae1ed7fe",
   "metadata": {
    "tags": []
   },
   "outputs": [],
   "source": [
    "pass"
   ]
  },
  {
   "cell_type": "markdown",
   "id": "4b137d90-07e9-4816-be08-3370a8a33e2a",
   "metadata": {},
   "source": [
    "### Deepsnap"
   ]
  },
  {
   "cell_type": "code",
   "execution_count": 28,
   "id": "6aefdf07-327c-4f75-9070-3c49a5acb4a0",
   "metadata": {
    "tags": []
   },
   "outputs": [],
   "source": [
    "g_nx = nx.Graph()\n",
    "\n",
    "g_nx = nx.Graph()\n",
    "for v in largest_comp.vertices():\n",
    "    g_nx.add_node(int(v))\n",
    "\n",
    "# Add edges to NetworkX graph in batches\n",
    "batch_size = 100000\n",
    "edges = [(int(e.source()), int(e.target())) for e in largest_comp.edges()]\n",
    "num_edges = len(edges)\n",
    "for i in range(0, num_edges, batch_size):\n",
    "    batch_edges = edges[i:i+batch_size]\n",
    "    g_nx.add_edges_from(batch_edges)\n",
    "\n",
    "        \n",
    "# Create a DeepSNAP graph from NetworkX graph\n",
    "ds_graph = Graph(g_nx)"
   ]
  },
  {
   "cell_type": "code",
   "execution_count": 30,
   "id": "f6d20f51-8c12-4508-9960-95f10c63f857",
   "metadata": {
    "tags": []
   },
   "outputs": [
    {
     "name": "stdout",
     "output_type": "stream",
     "text": [
      "Number of nodes: 38565\n",
      "Number of edges: 1813198\n"
     ]
    }
   ],
   "source": [
    "print(\"Number of nodes:\", g_nx.number_of_nodes())\n",
    "print(\"Number of edges:\", g_nx.number_of_edges())"
   ]
  },
  {
   "cell_type": "code",
   "execution_count": 31,
   "id": "ee3c05b5-8a28-4d3b-94d4-af5eb1a96032",
   "metadata": {
    "tags": []
   },
   "outputs": [
    {
     "name": "stdout",
     "output_type": "stream",
     "text": [
      "Number of vertices: 38565\n",
      "Number of edges: 6746550\n"
     ]
    }
   ],
   "source": [
    "print(\"Number of vertices:\", largest_comp.num_vertices()) \n",
    "print(\"Number of edges:\", largest_comp.num_edges())"
   ]
  },
  {
   "cell_type": "code",
   "execution_count": 139,
   "id": "6b5773f4-4af4-49ea-ba46-781b4fa3aca1",
   "metadata": {
    "tags": []
   },
   "outputs": [
    {
     "name": "stdout",
     "output_type": "stream",
     "text": [
      "GraphDataset(1)\n",
      "<class 'deepsnap.dataset.GraphDataset'>\n",
      "Graph(G=[], edge_index=[2, 2320892], edge_label=[1160448], edge_label_index=[2, 1160448], negative_label_val=[1], node_label_index=[38565])\n",
      "<class 'deepsnap.graph.Graph'>\n",
      "Train set has 580224 supervision (positive) edges\n",
      "Validation set has 362638 supervision (positive) edges\n",
      "Test set has 362642 supervision (positive) edges\n",
      "Train set has 2320892 message passing edges\n",
      "Validation set has 2901116 message passing edges\n",
      "Test set has 3263754 message passing edges\n"
     ]
    }
   ],
   "source": [
    "task = 'link_pred'\n",
    "dataset = GraphDataset([ds_graph], task=task, edge_train_mode='disjoint')\n",
    "\n",
    "dataset_train, dataset_val, dataset_test = dataset.split(transductive=True, split_ratio=[0.8, 0.1, 0.1])\n",
    "\n",
    "# dataset_train[0].to('cuda')\n",
    "# dataset_val[0].to('cuda')\n",
    "# dataset_test[0].to('cuda')\n",
    "\n",
    "# dataset_train.to('cuda:0')\n",
    "# dataset_val.to('cuda:0')\n",
    "# dataset_test.to('cuda:0')\n",
    "\n",
    "print(type(dataset_train))\n",
    "print(dataset_train[0])\n",
    "print(type(dataset_train[0]))\n",
    "\n",
    "num_train_edges = dataset_train[0].edge_label_index.shape[1]\n",
    "num_val_edges = dataset_val[0].edge_label_index.shape[1]\n",
    "num_test_edges = dataset_test[0].edge_label_index.shape[1]\n",
    "\n",
    "print(\"Train set has {} supervision (positive) edges\".format(num_train_edges // 2))\n",
    "print(\"Validation set has {} supervision (positive) edges\".format(num_val_edges // 2))\n",
    "print(\"Test set has {} supervision (positive) edges\".format(num_test_edges // 2))\n",
    "\n",
    "print(\"Train set has {} message passing edges\".format(dataset_train[0].edge_index.shape[1]))\n",
    "print(\"Validation set has {} message passing edges\".format(dataset_val[0].edge_index.shape[1]))\n",
    "print(\"Test set has {} message passing edges\".format(dataset_test[0].edge_index.shape[1]))"
   ]
  },
  {
   "cell_type": "code",
   "execution_count": null,
   "id": "5404e392-347d-444e-8cf1-3a898b6eae87",
   "metadata": {
    "tags": []
   },
   "outputs": [],
   "source": [
    "# pickle.dump(dataset_train, open('./graphs/train.graph', 'wb'))\n",
    "# pickle.dump(dataset_val, open('./graphs/val.graph', 'wb'))\n",
    "# pickle.dump(dataset_test, open('./graphs/test.graph', 'wb'))"
   ]
  },
  {
   "cell_type": "code",
   "execution_count": null,
   "id": "9e5cb885-4942-439a-8766-a0b7f9ebbc44",
   "metadata": {
    "tags": []
   },
   "outputs": [],
   "source": [
    "# dataset_train = pickle.load(open('./graphs/train.graph', 'rb'))\n",
    "# dataset_val = pickle.load(open('./graphs/val.graph', 'rb'))\n",
    "# dataset_test = pickle.load(open('./graphs/test.graph', 'rb'))"
   ]
  },
  {
   "cell_type": "code",
   "execution_count": 140,
   "id": "b59dec8f-30e8-4c5b-ab48-3cccfff33387",
   "metadata": {
    "tags": []
   },
   "outputs": [],
   "source": [
    "class LightGCNConv(MessagePassing):\n",
    "    def __init__(self, in_channels, out_channels, normalize = True,\n",
    "                 bias = False, **kwargs):  \n",
    "        super(LightGCNConv, self).__init__(**kwargs)\n",
    "\n",
    "        self.in_channels = in_channels\n",
    "        self.out_channels = out_channels\n",
    "        self.normalize = normalize\n",
    "\n",
    "    def forward(self, x, edge_index, size = None):\n",
    "        out = self.propagate(edge_index, x=(x, x))\n",
    "        return out\n",
    "\n",
    "    def message(self, x_j):\n",
    "        out = x_j\n",
    "        return out\n",
    "\n",
    "    def aggregate(self, inputs, index, dim_size = None):\n",
    "        node_dim = self.node_dim\n",
    "        out = torch_scatter.scatter(inputs, index, dim=node_dim, reduce='mean')\n",
    "        return out"
   ]
  },
  {
   "cell_type": "code",
   "execution_count": 141,
   "id": "63ff20e2-0434-4fd8-89a1-e8db325c3e86",
   "metadata": {
    "tags": []
   },
   "outputs": [],
   "source": [
    "class LightGCN(torch.nn.Module):\n",
    "    def __init__(self, train_data, num_layers, emb_size=16, initialize_with_words=False):\n",
    "        super(LightGCN, self).__init__()\n",
    "        self.convs = nn.ModuleList()\n",
    "        assert (num_layers >= 1), 'Number of layers is not >=1'\n",
    "        for l in range(num_layers):\n",
    "            self.convs.append(LightGCNConv(input_dim, input_dim))\n",
    "\n",
    "        # Initialize using custom embeddings if provided\n",
    "        num_nodes = train_data.node_label_index.size()[0]\n",
    "        self.embeddings = nn.Embedding(num_nodes, emb_size)\n",
    "        if initialize_with_words:\n",
    "            self.embeddings.weight.data.copy_(train_datanode_features)\n",
    "        \n",
    "        self.loss_fn = nn.BCELoss()\n",
    "        self.num_layers = num_layers\n",
    "        self.emb_size = emb_size\n",
    "        self.num_modes = num_nodes\n",
    "\n",
    "    def forward(self, data):\n",
    "        edge_index, edge_label_index, node_label_index = data.edge_index, data.edge_label_index, data.node_label_index\n",
    "        layer_embeddings = []\n",
    "        \n",
    "        x = self.embeddings(node_label_index)\n",
    "        mean_layer = x\n",
    "\n",
    "        # We take an average of ever layer's node embeddings\n",
    "        for i in range(self.num_layers):\n",
    "            x = self.convs[i](x, edge_index)\n",
    "            mean_layer += x\n",
    "\n",
    "        mean_layer /= 4\n",
    "\n",
    "        # Prediction head is simply dot product\n",
    "        nodes_first = torch.index_select(x, 0, edge_label_index[0,:].long())\n",
    "        nodes_second = torch.index_select(x, 0, edge_label_index[1,:].long())\n",
    "\n",
    "        # Since we don't want a rank output, we create a sigmoid of the dot product\n",
    "        out = torch.sum(nodes_first * nodes_second, dim=-1) # FOR RANKING\n",
    "        pred = torch.sigmoid(out)\n",
    "\n",
    "        return torch.flatten(pred)\n",
    "\n",
    "    def loss(self, pred, label):\n",
    "        return self.loss_fn(pred, label)"
   ]
  },
  {
   "cell_type": "code",
   "execution_count": 142,
   "id": "e8fffe68-e6e4-4892-9b18-13be04810acb",
   "metadata": {
    "tags": []
   },
   "outputs": [],
   "source": [
    "import warnings\n",
    "warnings.filterwarnings('ignore')"
   ]
  },
  {
   "cell_type": "code",
   "execution_count": 143,
   "id": "8633e9c3-115c-4ed1-a559-c6d2d9267b9f",
   "metadata": {
    "tags": []
   },
   "outputs": [
    {
     "name": "stdout",
     "output_type": "stream",
     "text": [
      "<class 'deepsnap.dataset.GraphDataset'>\n"
     ]
    }
   ],
   "source": [
    "print(type(dataset_train))"
   ]
  },
  {
   "cell_type": "code",
   "execution_count": 145,
   "id": "1ebe5156-60c7-4699-93f5-03466c7433d2",
   "metadata": {
    "tags": []
   },
   "outputs": [
    {
     "name": "stdout",
     "output_type": "stream",
     "text": [
      "0 {'device': 'cuda', 'num_layers': 3, 'emb_size': 32, 'epochs': 300, 'weight_decay': 1e-05, 'lr': 0.01}\n"
     ]
    }
   ],
   "source": [
    "args = {\n",
    "    'device' : 'cuda' if torch.cuda.is_available() else 'cpu',\n",
    "    'num_layers' : 3,\n",
    "    'emb_size' : 32,\n",
    "    'epochs' : 1,\n",
    "    'weight_decay': 1e-5,\n",
    "    'lr': 0.01,\n",
    "    'epochs': 300\n",
    "}\n",
    "\n",
    "datasets = {\n",
    "    'train': dataset_train[0],\n",
    "    'val': dataset_val[0],\n",
    "    'test': dataset_test[0]\n",
    "}\n",
    "            \n",
    "input_dim = datasets['train'].num_node_features\n",
    "print(input_dim, args)"
   ]
  },
  {
   "cell_type": "code",
   "execution_count": 132,
   "id": "ed65aa42-8be4-450f-bdec-aa2206feb866",
   "metadata": {
    "tags": []
   },
   "outputs": [],
   "source": [
    "# datasets['train'].to(args['device'])\n",
    "# datasets['val'].to(args['device'])\n",
    "# datasets['test'].to(args['device'])"
   ]
  },
  {
   "cell_type": "code",
   "execution_count": 146,
   "id": "941df0fc-fc53-4f9d-b457-b2c562175a89",
   "metadata": {},
   "outputs": [],
   "source": [
    "losses = []\n",
    "\n",
    "def train(model, optimizer, args):\n",
    "    val_max = 0\n",
    "    best_model = model\n",
    "\n",
    "    for epoch in range(1, args['epochs'] + 1):\n",
    "        datasets['train'].to(args[\"device\"])\n",
    "        model.train()\n",
    "        optimizer.zero_grad()\n",
    "        pred = model(datasets['train'])\n",
    "        loss = model.loss(pred, datasets['train'].edge_label.type(pred.dtype))\n",
    "\n",
    "        loss.backward()\n",
    "        optimizer.step()\n",
    "\n",
    "        log = 'Epoch: {:03d}, Train: {:.4f}, Val: {:.4f}, Test: {:.4f}, Loss: {:.5f}, Val Loss: {:.5f}'\n",
    "        score_train, train_loss = test(model, 'train', args)\n",
    "        score_val, val_loss = test(model, 'val', args)\n",
    "        score_test, test_loss = test(model, 'test', args)\n",
    "\n",
    "        losses.append((train_loss, val_loss))\n",
    "\n",
    "        print(log.format(epoch, score_train, score_val, score_test, train_loss, val_loss))\n",
    "        if val_max < score_val:\n",
    "            val_max = score_val\n",
    "            best_model = copy.deepcopy(model)\n",
    "\n",
    "    return best_model\n",
    "\n",
    "def test(model, mode, args):\n",
    "    model.eval()\n",
    "    score = 0\n",
    "    loss_score = 0\n",
    "\n",
    "    data = datasets[mode]\n",
    "    data.to(args[\"device\"])\n",
    "\n",
    "    pred = model(data)\n",
    "    loss = model.loss(pred, data.edge_label.type(pred.dtype))\n",
    "    score += roc_auc_score(data.edge_label.flatten().cpu().numpy(), pred.flatten().data.cpu().numpy())\n",
    "    loss_score += loss.item()\n",
    "\n",
    "    return score, loss_score"
   ]
  },
  {
   "cell_type": "code",
   "execution_count": 157,
   "id": "8ed78571-2201-450e-a3aa-6bd29ba4529e",
   "metadata": {
    "tags": []
   },
   "outputs": [
    {
     "name": "stdout",
     "output_type": "stream",
     "text": [
      "Epoch: 001, Train: 0.5244, Val: 0.5228, Test: 0.5232, Loss: 0.69823, Val Loss: 0.69841\n",
      "Epoch: 002, Train: 0.5728, Val: 0.5719, Test: 0.5720, Loss: 0.69597, Val Loss: 0.69614\n",
      "Epoch: 003, Train: 0.6084, Val: 0.6072, Test: 0.6074, Loss: 0.69435, Val Loss: 0.69451\n",
      "Epoch: 004, Train: 0.6348, Val: 0.6330, Test: 0.6332, Loss: 0.69321, Val Loss: 0.69335\n",
      "Epoch: 005, Train: 0.6550, Val: 0.6530, Test: 0.6530, Loss: 0.69241, Val Loss: 0.69254\n",
      "Epoch: 006, Train: 0.6703, Val: 0.6683, Test: 0.6682, Loss: 0.69184, Val Loss: 0.69197\n",
      "Epoch: 007, Train: 0.6813, Val: 0.6795, Test: 0.6793, Loss: 0.69142, Val Loss: 0.69155\n",
      "Epoch: 008, Train: 0.6900, Val: 0.6882, Test: 0.6881, Loss: 0.69109, Val Loss: 0.69121\n",
      "Epoch: 009, Train: 0.6978, Val: 0.6960, Test: 0.6961, Loss: 0.69080, Val Loss: 0.69091\n",
      "Epoch: 010, Train: 0.7052, Val: 0.7036, Test: 0.7038, Loss: 0.69051, Val Loss: 0.69063\n",
      "Epoch: 011, Train: 0.7128, Val: 0.7112, Test: 0.7115, Loss: 0.69023, Val Loss: 0.69034\n",
      "Epoch: 012, Train: 0.7204, Val: 0.7187, Test: 0.7191, Loss: 0.68993, Val Loss: 0.69004\n",
      "Epoch: 013, Train: 0.7275, Val: 0.7257, Test: 0.7262, Loss: 0.68962, Val Loss: 0.68973\n",
      "Epoch: 014, Train: 0.7334, Val: 0.7314, Test: 0.7319, Loss: 0.68930, Val Loss: 0.68941\n",
      "Epoch: 015, Train: 0.7383, Val: 0.7361, Test: 0.7368, Loss: 0.68896, Val Loss: 0.68907\n",
      "Epoch: 016, Train: 0.7426, Val: 0.7404, Test: 0.7412, Loss: 0.68861, Val Loss: 0.68872\n",
      "Epoch: 017, Train: 0.7462, Val: 0.7440, Test: 0.7448, Loss: 0.68825, Val Loss: 0.68836\n",
      "Epoch: 018, Train: 0.7493, Val: 0.7471, Test: 0.7479, Loss: 0.68789, Val Loss: 0.68800\n",
      "Epoch: 019, Train: 0.7517, Val: 0.7495, Test: 0.7503, Loss: 0.68752, Val Loss: 0.68763\n",
      "Epoch: 020, Train: 0.7537, Val: 0.7514, Test: 0.7521, Loss: 0.68714, Val Loss: 0.68726\n",
      "Epoch: 021, Train: 0.7553, Val: 0.7529, Test: 0.7536, Loss: 0.68675, Val Loss: 0.68687\n",
      "Epoch: 022, Train: 0.7567, Val: 0.7542, Test: 0.7548, Loss: 0.68636, Val Loss: 0.68648\n",
      "Epoch: 023, Train: 0.7579, Val: 0.7554, Test: 0.7559, Loss: 0.68595, Val Loss: 0.68608\n",
      "Epoch: 024, Train: 0.7591, Val: 0.7566, Test: 0.7570, Loss: 0.68554, Val Loss: 0.68567\n",
      "Epoch: 025, Train: 0.7603, Val: 0.7577, Test: 0.7581, Loss: 0.68511, Val Loss: 0.68525\n",
      "Epoch: 026, Train: 0.7613, Val: 0.7588, Test: 0.7592, Loss: 0.68466, Val Loss: 0.68480\n",
      "Epoch: 027, Train: 0.7624, Val: 0.7598, Test: 0.7603, Loss: 0.68420, Val Loss: 0.68434\n",
      "Epoch: 028, Train: 0.7634, Val: 0.7609, Test: 0.7614, Loss: 0.68371, Val Loss: 0.68386\n",
      "Epoch: 029, Train: 0.7644, Val: 0.7619, Test: 0.7624, Loss: 0.68320, Val Loss: 0.68335\n",
      "Epoch: 030, Train: 0.7654, Val: 0.7630, Test: 0.7634, Loss: 0.68266, Val Loss: 0.68281\n",
      "Epoch: 031, Train: 0.7664, Val: 0.7640, Test: 0.7645, Loss: 0.68210, Val Loss: 0.68225\n",
      "Epoch: 032, Train: 0.7673, Val: 0.7651, Test: 0.7655, Loss: 0.68150, Val Loss: 0.68166\n",
      "Epoch: 033, Train: 0.7684, Val: 0.7662, Test: 0.7666, Loss: 0.68088, Val Loss: 0.68103\n",
      "Epoch: 034, Train: 0.7694, Val: 0.7673, Test: 0.7677, Loss: 0.68022, Val Loss: 0.68037\n",
      "Epoch: 035, Train: 0.7703, Val: 0.7683, Test: 0.7688, Loss: 0.67953, Val Loss: 0.67968\n",
      "Epoch: 036, Train: 0.7712, Val: 0.7692, Test: 0.7697, Loss: 0.67880, Val Loss: 0.67896\n",
      "Epoch: 037, Train: 0.7717, Val: 0.7698, Test: 0.7703, Loss: 0.67804, Val Loss: 0.67820\n",
      "Epoch: 038, Train: 0.7720, Val: 0.7701, Test: 0.7706, Loss: 0.67725, Val Loss: 0.67740\n",
      "Epoch: 039, Train: 0.7721, Val: 0.7702, Test: 0.7708, Loss: 0.67642, Val Loss: 0.67657\n",
      "Epoch: 040, Train: 0.7721, Val: 0.7702, Test: 0.7708, Loss: 0.67555, Val Loss: 0.67571\n",
      "Epoch: 041, Train: 0.7720, Val: 0.7701, Test: 0.7707, Loss: 0.67465, Val Loss: 0.67481\n",
      "Epoch: 042, Train: 0.7718, Val: 0.7699, Test: 0.7705, Loss: 0.67371, Val Loss: 0.67387\n",
      "Epoch: 043, Train: 0.7716, Val: 0.7697, Test: 0.7702, Loss: 0.67274, Val Loss: 0.67290\n",
      "Epoch: 044, Train: 0.7715, Val: 0.7695, Test: 0.7700, Loss: 0.67173, Val Loss: 0.67189\n",
      "Epoch: 045, Train: 0.7713, Val: 0.7694, Test: 0.7699, Loss: 0.67069, Val Loss: 0.67085\n",
      "Epoch: 046, Train: 0.7712, Val: 0.7693, Test: 0.7698, Loss: 0.66962, Val Loss: 0.66978\n",
      "Epoch: 047, Train: 0.7712, Val: 0.7693, Test: 0.7698, Loss: 0.66851, Val Loss: 0.66867\n",
      "Epoch: 048, Train: 0.7713, Val: 0.7694, Test: 0.7699, Loss: 0.66737, Val Loss: 0.66754\n",
      "Epoch: 049, Train: 0.7715, Val: 0.7696, Test: 0.7701, Loss: 0.66621, Val Loss: 0.66638\n",
      "Epoch: 050, Train: 0.7717, Val: 0.7699, Test: 0.7704, Loss: 0.66502, Val Loss: 0.66519\n",
      "Epoch: 051, Train: 0.7721, Val: 0.7703, Test: 0.7707, Loss: 0.66381, Val Loss: 0.66398\n",
      "Epoch: 052, Train: 0.7726, Val: 0.7708, Test: 0.7712, Loss: 0.66258, Val Loss: 0.66275\n",
      "Epoch: 053, Train: 0.7732, Val: 0.7715, Test: 0.7718, Loss: 0.66132, Val Loss: 0.66150\n",
      "Epoch: 054, Train: 0.7739, Val: 0.7722, Test: 0.7726, Loss: 0.66006, Val Loss: 0.66023\n",
      "Epoch: 055, Train: 0.7747, Val: 0.7731, Test: 0.7734, Loss: 0.65878, Val Loss: 0.65895\n",
      "Epoch: 056, Train: 0.7756, Val: 0.7740, Test: 0.7743, Loss: 0.65749, Val Loss: 0.65766\n",
      "Epoch: 057, Train: 0.7765, Val: 0.7749, Test: 0.7752, Loss: 0.65619, Val Loss: 0.65637\n",
      "Epoch: 058, Train: 0.7775, Val: 0.7759, Test: 0.7761, Loss: 0.65489, Val Loss: 0.65507\n",
      "Epoch: 059, Train: 0.7784, Val: 0.7769, Test: 0.7771, Loss: 0.65359, Val Loss: 0.65377\n",
      "Epoch: 060, Train: 0.7794, Val: 0.7779, Test: 0.7781, Loss: 0.65230, Val Loss: 0.65248\n",
      "Epoch: 061, Train: 0.7804, Val: 0.7789, Test: 0.7791, Loss: 0.65100, Val Loss: 0.65119\n",
      "Epoch: 062, Train: 0.7814, Val: 0.7799, Test: 0.7801, Loss: 0.64972, Val Loss: 0.64990\n",
      "Epoch: 063, Train: 0.7824, Val: 0.7810, Test: 0.7811, Loss: 0.64844, Val Loss: 0.64863\n",
      "Epoch: 064, Train: 0.7835, Val: 0.7820, Test: 0.7821, Loss: 0.64717, Val Loss: 0.64736\n",
      "Epoch: 065, Train: 0.7845, Val: 0.7830, Test: 0.7831, Loss: 0.64592, Val Loss: 0.64611\n",
      "Epoch: 066, Train: 0.7855, Val: 0.7840, Test: 0.7841, Loss: 0.64468, Val Loss: 0.64488\n",
      "Epoch: 067, Train: 0.7865, Val: 0.7850, Test: 0.7850, Loss: 0.64346, Val Loss: 0.64365\n",
      "Epoch: 068, Train: 0.7875, Val: 0.7860, Test: 0.7860, Loss: 0.64225, Val Loss: 0.64245\n",
      "Epoch: 069, Train: 0.7884, Val: 0.7870, Test: 0.7870, Loss: 0.64106, Val Loss: 0.64127\n",
      "Epoch: 070, Train: 0.7894, Val: 0.7880, Test: 0.7879, Loss: 0.63989, Val Loss: 0.64010\n",
      "Epoch: 071, Train: 0.7903, Val: 0.7889, Test: 0.7888, Loss: 0.63874, Val Loss: 0.63895\n",
      "Epoch: 072, Train: 0.7912, Val: 0.7898, Test: 0.7897, Loss: 0.63761, Val Loss: 0.63782\n",
      "Epoch: 073, Train: 0.7921, Val: 0.7907, Test: 0.7906, Loss: 0.63650, Val Loss: 0.63672\n",
      "Epoch: 074, Train: 0.7929, Val: 0.7916, Test: 0.7914, Loss: 0.63542, Val Loss: 0.63563\n",
      "Epoch: 075, Train: 0.7938, Val: 0.7924, Test: 0.7923, Loss: 0.63435, Val Loss: 0.63457\n",
      "Epoch: 076, Train: 0.7946, Val: 0.7933, Test: 0.7931, Loss: 0.63330, Val Loss: 0.63352\n",
      "Epoch: 077, Train: 0.7954, Val: 0.7941, Test: 0.7939, Loss: 0.63227, Val Loss: 0.63250\n",
      "Epoch: 078, Train: 0.7961, Val: 0.7949, Test: 0.7947, Loss: 0.63127, Val Loss: 0.63150\n",
      "Epoch: 079, Train: 0.7969, Val: 0.7956, Test: 0.7954, Loss: 0.63029, Val Loss: 0.63052\n",
      "Epoch: 080, Train: 0.7976, Val: 0.7964, Test: 0.7961, Loss: 0.62932, Val Loss: 0.62956\n",
      "Epoch: 081, Train: 0.7984, Val: 0.7971, Test: 0.7969, Loss: 0.62838, Val Loss: 0.62862\n",
      "Epoch: 082, Train: 0.7991, Val: 0.7978, Test: 0.7976, Loss: 0.62746, Val Loss: 0.62770\n",
      "Epoch: 083, Train: 0.7998, Val: 0.7985, Test: 0.7983, Loss: 0.62656, Val Loss: 0.62681\n",
      "Epoch: 084, Train: 0.8005, Val: 0.7992, Test: 0.7990, Loss: 0.62569, Val Loss: 0.62593\n",
      "Epoch: 085, Train: 0.8012, Val: 0.7999, Test: 0.7996, Loss: 0.62483, Val Loss: 0.62508\n",
      "Epoch: 086, Train: 0.8018, Val: 0.8006, Test: 0.8003, Loss: 0.62399, Val Loss: 0.62424\n",
      "Epoch: 087, Train: 0.8025, Val: 0.8012, Test: 0.8010, Loss: 0.62318, Val Loss: 0.62343\n",
      "Epoch: 088, Train: 0.8031, Val: 0.8019, Test: 0.8016, Loss: 0.62238, Val Loss: 0.62264\n",
      "Epoch: 089, Train: 0.8038, Val: 0.8025, Test: 0.8023, Loss: 0.62160, Val Loss: 0.62186\n",
      "Epoch: 090, Train: 0.8044, Val: 0.8031, Test: 0.8029, Loss: 0.62084, Val Loss: 0.62111\n",
      "Epoch: 091, Train: 0.8050, Val: 0.8037, Test: 0.8035, Loss: 0.62010, Val Loss: 0.62037\n",
      "Epoch: 092, Train: 0.8056, Val: 0.8043, Test: 0.8041, Loss: 0.61938, Val Loss: 0.61965\n",
      "Epoch: 093, Train: 0.8062, Val: 0.8049, Test: 0.8046, Loss: 0.61867, Val Loss: 0.61895\n",
      "Epoch: 094, Train: 0.8067, Val: 0.8055, Test: 0.8052, Loss: 0.61798, Val Loss: 0.61826\n",
      "Epoch: 095, Train: 0.8073, Val: 0.8060, Test: 0.8057, Loss: 0.61731, Val Loss: 0.61759\n",
      "Epoch: 096, Train: 0.8078, Val: 0.8065, Test: 0.8063, Loss: 0.61666, Val Loss: 0.61694\n",
      "Epoch: 097, Train: 0.8083, Val: 0.8071, Test: 0.8068, Loss: 0.61601, Val Loss: 0.61630\n",
      "Epoch: 098, Train: 0.8088, Val: 0.8076, Test: 0.8073, Loss: 0.61539, Val Loss: 0.61567\n",
      "Epoch: 099, Train: 0.8093, Val: 0.8080, Test: 0.8078, Loss: 0.61478, Val Loss: 0.61507\n",
      "Epoch: 100, Train: 0.8098, Val: 0.8085, Test: 0.8082, Loss: 0.61418, Val Loss: 0.61447\n",
      "Epoch: 101, Train: 0.8103, Val: 0.8090, Test: 0.8087, Loss: 0.61359, Val Loss: 0.61389\n",
      "Epoch: 102, Train: 0.8107, Val: 0.8095, Test: 0.8091, Loss: 0.61302, Val Loss: 0.61332\n",
      "Epoch: 103, Train: 0.8112, Val: 0.8099, Test: 0.8096, Loss: 0.61246, Val Loss: 0.61276\n",
      "Epoch: 104, Train: 0.8116, Val: 0.8104, Test: 0.8100, Loss: 0.61192, Val Loss: 0.61222\n",
      "Epoch: 105, Train: 0.8120, Val: 0.8108, Test: 0.8104, Loss: 0.61138, Val Loss: 0.61169\n",
      "Epoch: 106, Train: 0.8125, Val: 0.8112, Test: 0.8109, Loss: 0.61086, Val Loss: 0.61117\n",
      "Epoch: 107, Train: 0.8129, Val: 0.8116, Test: 0.8113, Loss: 0.61035, Val Loss: 0.61066\n",
      "Epoch: 108, Train: 0.8133, Val: 0.8120, Test: 0.8117, Loss: 0.60985, Val Loss: 0.61016\n",
      "Epoch: 109, Train: 0.8137, Val: 0.8124, Test: 0.8121, Loss: 0.60936, Val Loss: 0.60968\n",
      "Epoch: 110, Train: 0.8141, Val: 0.8128, Test: 0.8125, Loss: 0.60889, Val Loss: 0.60920\n",
      "Epoch: 111, Train: 0.8145, Val: 0.8132, Test: 0.8129, Loss: 0.60842, Val Loss: 0.60873\n",
      "Epoch: 112, Train: 0.8148, Val: 0.8136, Test: 0.8132, Loss: 0.60796, Val Loss: 0.60828\n",
      "Epoch: 113, Train: 0.8152, Val: 0.8140, Test: 0.8136, Loss: 0.60751, Val Loss: 0.60783\n",
      "Epoch: 114, Train: 0.8156, Val: 0.8143, Test: 0.8140, Loss: 0.60707, Val Loss: 0.60739\n",
      "Epoch: 115, Train: 0.8159, Val: 0.8147, Test: 0.8143, Loss: 0.60664, Val Loss: 0.60697\n",
      "Epoch: 116, Train: 0.8163, Val: 0.8150, Test: 0.8147, Loss: 0.60622, Val Loss: 0.60655\n",
      "Epoch: 117, Train: 0.8166, Val: 0.8154, Test: 0.8150, Loss: 0.60581, Val Loss: 0.60614\n",
      "Epoch: 118, Train: 0.8169, Val: 0.8157, Test: 0.8154, Loss: 0.60540, Val Loss: 0.60573\n",
      "Epoch: 119, Train: 0.8172, Val: 0.8161, Test: 0.8157, Loss: 0.60501, Val Loss: 0.60534\n",
      "Epoch: 120, Train: 0.8176, Val: 0.8164, Test: 0.8160, Loss: 0.60462, Val Loss: 0.60495\n",
      "Epoch: 121, Train: 0.8179, Val: 0.8167, Test: 0.8163, Loss: 0.60423, Val Loss: 0.60457\n",
      "Epoch: 122, Train: 0.8182, Val: 0.8170, Test: 0.8166, Loss: 0.60386, Val Loss: 0.60420\n",
      "Epoch: 123, Train: 0.8185, Val: 0.8173, Test: 0.8169, Loss: 0.60349, Val Loss: 0.60383\n",
      "Epoch: 124, Train: 0.8188, Val: 0.8176, Test: 0.8172, Loss: 0.60313, Val Loss: 0.60347\n",
      "Epoch: 125, Train: 0.8191, Val: 0.8179, Test: 0.8175, Loss: 0.60278, Val Loss: 0.60312\n",
      "Epoch: 126, Train: 0.8193, Val: 0.8182, Test: 0.8178, Loss: 0.60243, Val Loss: 0.60277\n",
      "Epoch: 127, Train: 0.8196, Val: 0.8184, Test: 0.8181, Loss: 0.60209, Val Loss: 0.60243\n",
      "Epoch: 128, Train: 0.8199, Val: 0.8187, Test: 0.8184, Loss: 0.60176, Val Loss: 0.60210\n",
      "Epoch: 129, Train: 0.8202, Val: 0.8190, Test: 0.8186, Loss: 0.60143, Val Loss: 0.60177\n",
      "Epoch: 130, Train: 0.8204, Val: 0.8193, Test: 0.8189, Loss: 0.60110, Val Loss: 0.60145\n",
      "Epoch: 131, Train: 0.8207, Val: 0.8195, Test: 0.8192, Loss: 0.60079, Val Loss: 0.60114\n",
      "Epoch: 132, Train: 0.8209, Val: 0.8198, Test: 0.8194, Loss: 0.60048, Val Loss: 0.60083\n",
      "Epoch: 133, Train: 0.8212, Val: 0.8200, Test: 0.8197, Loss: 0.60017, Val Loss: 0.60052\n",
      "Epoch: 134, Train: 0.8214, Val: 0.8203, Test: 0.8199, Loss: 0.59987, Val Loss: 0.60022\n",
      "Epoch: 135, Train: 0.8217, Val: 0.8205, Test: 0.8201, Loss: 0.59957, Val Loss: 0.59993\n",
      "Epoch: 136, Train: 0.8219, Val: 0.8208, Test: 0.8204, Loss: 0.59928, Val Loss: 0.59964\n",
      "Epoch: 137, Train: 0.8221, Val: 0.8210, Test: 0.8206, Loss: 0.59900, Val Loss: 0.59936\n",
      "Epoch: 138, Train: 0.8224, Val: 0.8212, Test: 0.8208, Loss: 0.59872, Val Loss: 0.59908\n",
      "Epoch: 139, Train: 0.8226, Val: 0.8214, Test: 0.8211, Loss: 0.59844, Val Loss: 0.59880\n",
      "Epoch: 140, Train: 0.8228, Val: 0.8217, Test: 0.8213, Loss: 0.59817, Val Loss: 0.59853\n",
      "Epoch: 141, Train: 0.8230, Val: 0.8219, Test: 0.8215, Loss: 0.59791, Val Loss: 0.59827\n",
      "Epoch: 142, Train: 0.8232, Val: 0.8221, Test: 0.8217, Loss: 0.59764, Val Loss: 0.59800\n",
      "Epoch: 143, Train: 0.8234, Val: 0.8223, Test: 0.8219, Loss: 0.59739, Val Loss: 0.59775\n",
      "Epoch: 144, Train: 0.8236, Val: 0.8225, Test: 0.8221, Loss: 0.59713, Val Loss: 0.59750\n",
      "Epoch: 145, Train: 0.8238, Val: 0.8227, Test: 0.8223, Loss: 0.59688, Val Loss: 0.59725\n",
      "Epoch: 146, Train: 0.8240, Val: 0.8229, Test: 0.8225, Loss: 0.59664, Val Loss: 0.59700\n",
      "Epoch: 147, Train: 0.8242, Val: 0.8231, Test: 0.8227, Loss: 0.59640, Val Loss: 0.59676\n",
      "Epoch: 148, Train: 0.8244, Val: 0.8233, Test: 0.8229, Loss: 0.59616, Val Loss: 0.59652\n",
      "Epoch: 149, Train: 0.8246, Val: 0.8235, Test: 0.8231, Loss: 0.59592, Val Loss: 0.59629\n",
      "Epoch: 150, Train: 0.8248, Val: 0.8237, Test: 0.8233, Loss: 0.59569, Val Loss: 0.59606\n",
      "Epoch: 151, Train: 0.8250, Val: 0.8239, Test: 0.8235, Loss: 0.59547, Val Loss: 0.59584\n",
      "Epoch: 152, Train: 0.8251, Val: 0.8240, Test: 0.8237, Loss: 0.59524, Val Loss: 0.59561\n",
      "Epoch: 153, Train: 0.8253, Val: 0.8242, Test: 0.8239, Loss: 0.59502, Val Loss: 0.59540\n",
      "Epoch: 154, Train: 0.8255, Val: 0.8244, Test: 0.8240, Loss: 0.59481, Val Loss: 0.59518\n",
      "Epoch: 155, Train: 0.8256, Val: 0.8246, Test: 0.8242, Loss: 0.59460, Val Loss: 0.59497\n",
      "Epoch: 156, Train: 0.8258, Val: 0.8247, Test: 0.8244, Loss: 0.59439, Val Loss: 0.59476\n",
      "Epoch: 157, Train: 0.8260, Val: 0.8249, Test: 0.8246, Loss: 0.59418, Val Loss: 0.59455\n",
      "Epoch: 158, Train: 0.8261, Val: 0.8251, Test: 0.8247, Loss: 0.59398, Val Loss: 0.59435\n",
      "Epoch: 159, Train: 0.8263, Val: 0.8252, Test: 0.8249, Loss: 0.59378, Val Loss: 0.59415\n",
      "Epoch: 160, Train: 0.8264, Val: 0.8254, Test: 0.8250, Loss: 0.59358, Val Loss: 0.59395\n",
      "Epoch: 161, Train: 0.8266, Val: 0.8255, Test: 0.8252, Loss: 0.59338, Val Loss: 0.59376\n",
      "Epoch: 162, Train: 0.8268, Val: 0.8257, Test: 0.8254, Loss: 0.59319, Val Loss: 0.59357\n",
      "Epoch: 163, Train: 0.8269, Val: 0.8258, Test: 0.8255, Loss: 0.59300, Val Loss: 0.59338\n",
      "Epoch: 164, Train: 0.8270, Val: 0.8260, Test: 0.8257, Loss: 0.59282, Val Loss: 0.59320\n",
      "Epoch: 165, Train: 0.8272, Val: 0.8261, Test: 0.8258, Loss: 0.59263, Val Loss: 0.59301\n",
      "Epoch: 166, Train: 0.8273, Val: 0.8263, Test: 0.8259, Loss: 0.59245, Val Loss: 0.59283\n",
      "Epoch: 167, Train: 0.8275, Val: 0.8264, Test: 0.8261, Loss: 0.59228, Val Loss: 0.59266\n",
      "Epoch: 168, Train: 0.8276, Val: 0.8266, Test: 0.8262, Loss: 0.59210, Val Loss: 0.59248\n",
      "Epoch: 169, Train: 0.8277, Val: 0.8267, Test: 0.8264, Loss: 0.59193, Val Loss: 0.59231\n",
      "Epoch: 170, Train: 0.8279, Val: 0.8268, Test: 0.8265, Loss: 0.59176, Val Loss: 0.59214\n",
      "Epoch: 171, Train: 0.8280, Val: 0.8270, Test: 0.8266, Loss: 0.59159, Val Loss: 0.59197\n",
      "Epoch: 172, Train: 0.8281, Val: 0.8271, Test: 0.8268, Loss: 0.59142, Val Loss: 0.59181\n",
      "Epoch: 173, Train: 0.8283, Val: 0.8272, Test: 0.8269, Loss: 0.59126, Val Loss: 0.59164\n",
      "Epoch: 174, Train: 0.8284, Val: 0.8273, Test: 0.8270, Loss: 0.59110, Val Loss: 0.59148\n",
      "Epoch: 175, Train: 0.8285, Val: 0.8275, Test: 0.8271, Loss: 0.59094, Val Loss: 0.59133\n",
      "Epoch: 176, Train: 0.8286, Val: 0.8276, Test: 0.8273, Loss: 0.59078, Val Loss: 0.59117\n",
      "Epoch: 177, Train: 0.8287, Val: 0.8277, Test: 0.8274, Loss: 0.59063, Val Loss: 0.59101\n",
      "Epoch: 178, Train: 0.8289, Val: 0.8278, Test: 0.8275, Loss: 0.59048, Val Loss: 0.59086\n",
      "Epoch: 179, Train: 0.8290, Val: 0.8280, Test: 0.8276, Loss: 0.59033, Val Loss: 0.59071\n",
      "Epoch: 180, Train: 0.8291, Val: 0.8281, Test: 0.8277, Loss: 0.59018, Val Loss: 0.59057\n",
      "Epoch: 181, Train: 0.8292, Val: 0.8282, Test: 0.8279, Loss: 0.59003, Val Loss: 0.59042\n",
      "Epoch: 182, Train: 0.8293, Val: 0.8283, Test: 0.8280, Loss: 0.58989, Val Loss: 0.59028\n",
      "Epoch: 183, Train: 0.8294, Val: 0.8284, Test: 0.8281, Loss: 0.58975, Val Loss: 0.59013\n",
      "Epoch: 184, Train: 0.8295, Val: 0.8285, Test: 0.8282, Loss: 0.58960, Val Loss: 0.58999\n",
      "Epoch: 185, Train: 0.8296, Val: 0.8286, Test: 0.8283, Loss: 0.58947, Val Loss: 0.58986\n",
      "Epoch: 186, Train: 0.8297, Val: 0.8287, Test: 0.8284, Loss: 0.58933, Val Loss: 0.58972\n",
      "Epoch: 187, Train: 0.8298, Val: 0.8288, Test: 0.8285, Loss: 0.58920, Val Loss: 0.58959\n",
      "Epoch: 188, Train: 0.8299, Val: 0.8289, Test: 0.8286, Loss: 0.58906, Val Loss: 0.58945\n",
      "Epoch: 189, Train: 0.8300, Val: 0.8290, Test: 0.8287, Loss: 0.58893, Val Loss: 0.58932\n",
      "Epoch: 190, Train: 0.8301, Val: 0.8291, Test: 0.8288, Loss: 0.58880, Val Loss: 0.58919\n",
      "Epoch: 191, Train: 0.8302, Val: 0.8292, Test: 0.8289, Loss: 0.58867, Val Loss: 0.58907\n",
      "Epoch: 192, Train: 0.8303, Val: 0.8293, Test: 0.8290, Loss: 0.58855, Val Loss: 0.58894\n",
      "Epoch: 193, Train: 0.8304, Val: 0.8294, Test: 0.8291, Loss: 0.58842, Val Loss: 0.58882\n",
      "Epoch: 194, Train: 0.8305, Val: 0.8295, Test: 0.8292, Loss: 0.58830, Val Loss: 0.58869\n",
      "Epoch: 195, Train: 0.8306, Val: 0.8296, Test: 0.8293, Loss: 0.58818, Val Loss: 0.58857\n",
      "Epoch: 196, Train: 0.8307, Val: 0.8297, Test: 0.8294, Loss: 0.58806, Val Loss: 0.58845\n",
      "Epoch: 197, Train: 0.8308, Val: 0.8298, Test: 0.8295, Loss: 0.58794, Val Loss: 0.58834\n",
      "Epoch: 198, Train: 0.8309, Val: 0.8299, Test: 0.8296, Loss: 0.58782, Val Loss: 0.58822\n",
      "Epoch: 199, Train: 0.8310, Val: 0.8300, Test: 0.8296, Loss: 0.58771, Val Loss: 0.58810\n",
      "Epoch: 200, Train: 0.8311, Val: 0.8301, Test: 0.8297, Loss: 0.58760, Val Loss: 0.58799\n",
      "Epoch: 201, Train: 0.8311, Val: 0.8302, Test: 0.8298, Loss: 0.58748, Val Loss: 0.58788\n",
      "Epoch: 202, Train: 0.8312, Val: 0.8302, Test: 0.8299, Loss: 0.58737, Val Loss: 0.58777\n",
      "Epoch: 203, Train: 0.8313, Val: 0.8303, Test: 0.8300, Loss: 0.58726, Val Loss: 0.58766\n",
      "Epoch: 204, Train: 0.8314, Val: 0.8304, Test: 0.8301, Loss: 0.58716, Val Loss: 0.58755\n",
      "Epoch: 205, Train: 0.8315, Val: 0.8305, Test: 0.8301, Loss: 0.58705, Val Loss: 0.58745\n",
      "Epoch: 206, Train: 0.8315, Val: 0.8306, Test: 0.8302, Loss: 0.58694, Val Loss: 0.58734\n",
      "Epoch: 207, Train: 0.8316, Val: 0.8307, Test: 0.8303, Loss: 0.58684, Val Loss: 0.58724\n",
      "Epoch: 208, Train: 0.8317, Val: 0.8307, Test: 0.8304, Loss: 0.58674, Val Loss: 0.58713\n",
      "Epoch: 209, Train: 0.8318, Val: 0.8308, Test: 0.8305, Loss: 0.58664, Val Loss: 0.58703\n",
      "Epoch: 210, Train: 0.8318, Val: 0.8309, Test: 0.8305, Loss: 0.58654, Val Loss: 0.58693\n",
      "Epoch: 211, Train: 0.8319, Val: 0.8310, Test: 0.8306, Loss: 0.58644, Val Loss: 0.58684\n",
      "Epoch: 212, Train: 0.8320, Val: 0.8310, Test: 0.8307, Loss: 0.58634, Val Loss: 0.58674\n",
      "Epoch: 213, Train: 0.8321, Val: 0.8311, Test: 0.8308, Loss: 0.58624, Val Loss: 0.58664\n",
      "Epoch: 214, Train: 0.8321, Val: 0.8312, Test: 0.8308, Loss: 0.58615, Val Loss: 0.58655\n",
      "Epoch: 215, Train: 0.8322, Val: 0.8313, Test: 0.8309, Loss: 0.58605, Val Loss: 0.58645\n",
      "Epoch: 216, Train: 0.8323, Val: 0.8313, Test: 0.8310, Loss: 0.58596, Val Loss: 0.58636\n",
      "Epoch: 217, Train: 0.8323, Val: 0.8314, Test: 0.8310, Loss: 0.58587, Val Loss: 0.58627\n",
      "Epoch: 218, Train: 0.8324, Val: 0.8315, Test: 0.8311, Loss: 0.58578, Val Loss: 0.58618\n",
      "Epoch: 219, Train: 0.8325, Val: 0.8315, Test: 0.8312, Loss: 0.58569, Val Loss: 0.58609\n",
      "Epoch: 220, Train: 0.8325, Val: 0.8316, Test: 0.8312, Loss: 0.58560, Val Loss: 0.58600\n",
      "Epoch: 221, Train: 0.8326, Val: 0.8317, Test: 0.8313, Loss: 0.58551, Val Loss: 0.58591\n",
      "Epoch: 222, Train: 0.8327, Val: 0.8317, Test: 0.8314, Loss: 0.58543, Val Loss: 0.58583\n",
      "Epoch: 223, Train: 0.8327, Val: 0.8318, Test: 0.8314, Loss: 0.58534, Val Loss: 0.58574\n",
      "Epoch: 224, Train: 0.8328, Val: 0.8319, Test: 0.8315, Loss: 0.58526, Val Loss: 0.58566\n",
      "Epoch: 225, Train: 0.8329, Val: 0.8319, Test: 0.8316, Loss: 0.58517, Val Loss: 0.58557\n",
      "Epoch: 226, Train: 0.8329, Val: 0.8320, Test: 0.8316, Loss: 0.58509, Val Loss: 0.58549\n",
      "Epoch: 227, Train: 0.8330, Val: 0.8320, Test: 0.8317, Loss: 0.58501, Val Loss: 0.58541\n",
      "Epoch: 228, Train: 0.8330, Val: 0.8321, Test: 0.8317, Loss: 0.58493, Val Loss: 0.58533\n",
      "Epoch: 229, Train: 0.8331, Val: 0.8322, Test: 0.8318, Loss: 0.58485, Val Loss: 0.58525\n",
      "Epoch: 230, Train: 0.8332, Val: 0.8322, Test: 0.8319, Loss: 0.58477, Val Loss: 0.58517\n",
      "Epoch: 231, Train: 0.8332, Val: 0.8323, Test: 0.8319, Loss: 0.58469, Val Loss: 0.58510\n",
      "Epoch: 232, Train: 0.8333, Val: 0.8323, Test: 0.8320, Loss: 0.58462, Val Loss: 0.58502\n",
      "Epoch: 233, Train: 0.8333, Val: 0.8324, Test: 0.8320, Loss: 0.58454, Val Loss: 0.58494\n",
      "Epoch: 234, Train: 0.8334, Val: 0.8325, Test: 0.8321, Loss: 0.58447, Val Loss: 0.58487\n",
      "Epoch: 235, Train: 0.8334, Val: 0.8325, Test: 0.8321, Loss: 0.58439, Val Loss: 0.58480\n",
      "Epoch: 236, Train: 0.8335, Val: 0.8326, Test: 0.8322, Loss: 0.58432, Val Loss: 0.58472\n",
      "Epoch: 237, Train: 0.8336, Val: 0.8326, Test: 0.8323, Loss: 0.58425, Val Loss: 0.58465\n",
      "Epoch: 238, Train: 0.8336, Val: 0.8327, Test: 0.8323, Loss: 0.58418, Val Loss: 0.58458\n",
      "Epoch: 239, Train: 0.8337, Val: 0.8327, Test: 0.8324, Loss: 0.58411, Val Loss: 0.58451\n",
      "Epoch: 240, Train: 0.8337, Val: 0.8328, Test: 0.8324, Loss: 0.58404, Val Loss: 0.58444\n",
      "Epoch: 241, Train: 0.8338, Val: 0.8328, Test: 0.8325, Loss: 0.58397, Val Loss: 0.58437\n",
      "Epoch: 242, Train: 0.8338, Val: 0.8329, Test: 0.8325, Loss: 0.58390, Val Loss: 0.58430\n",
      "Epoch: 243, Train: 0.8339, Val: 0.8329, Test: 0.8326, Loss: 0.58383, Val Loss: 0.58423\n",
      "Epoch: 244, Train: 0.8339, Val: 0.8330, Test: 0.8326, Loss: 0.58377, Val Loss: 0.58417\n",
      "Epoch: 245, Train: 0.8340, Val: 0.8330, Test: 0.8327, Loss: 0.58370, Val Loss: 0.58410\n",
      "Epoch: 246, Train: 0.8340, Val: 0.8331, Test: 0.8327, Loss: 0.58363, Val Loss: 0.58404\n",
      "Epoch: 247, Train: 0.8341, Val: 0.8331, Test: 0.8328, Loss: 0.58357, Val Loss: 0.58397\n",
      "Epoch: 248, Train: 0.8341, Val: 0.8332, Test: 0.8328, Loss: 0.58351, Val Loss: 0.58391\n",
      "Epoch: 249, Train: 0.8342, Val: 0.8332, Test: 0.8329, Loss: 0.58344, Val Loss: 0.58385\n",
      "Epoch: 250, Train: 0.8342, Val: 0.8333, Test: 0.8329, Loss: 0.58338, Val Loss: 0.58379\n",
      "Epoch: 251, Train: 0.8342, Val: 0.8333, Test: 0.8329, Loss: 0.58332, Val Loss: 0.58372\n",
      "Epoch: 252, Train: 0.8343, Val: 0.8334, Test: 0.8330, Loss: 0.58326, Val Loss: 0.58366\n",
      "Epoch: 253, Train: 0.8343, Val: 0.8334, Test: 0.8330, Loss: 0.58320, Val Loss: 0.58360\n",
      "Epoch: 254, Train: 0.8344, Val: 0.8334, Test: 0.8331, Loss: 0.58314, Val Loss: 0.58354\n",
      "Epoch: 255, Train: 0.8344, Val: 0.8335, Test: 0.8331, Loss: 0.58308, Val Loss: 0.58349\n",
      "Epoch: 256, Train: 0.8345, Val: 0.8335, Test: 0.8332, Loss: 0.58302, Val Loss: 0.58343\n",
      "Epoch: 257, Train: 0.8345, Val: 0.8336, Test: 0.8332, Loss: 0.58297, Val Loss: 0.58337\n",
      "Epoch: 258, Train: 0.8345, Val: 0.8336, Test: 0.8333, Loss: 0.58291, Val Loss: 0.58331\n",
      "Epoch: 259, Train: 0.8346, Val: 0.8337, Test: 0.8333, Loss: 0.58285, Val Loss: 0.58326\n",
      "Epoch: 260, Train: 0.8346, Val: 0.8337, Test: 0.8333, Loss: 0.58280, Val Loss: 0.58320\n",
      "Epoch: 261, Train: 0.8347, Val: 0.8337, Test: 0.8334, Loss: 0.58274, Val Loss: 0.58315\n",
      "Epoch: 262, Train: 0.8347, Val: 0.8338, Test: 0.8334, Loss: 0.58269, Val Loss: 0.58309\n",
      "Epoch: 263, Train: 0.8347, Val: 0.8338, Test: 0.8335, Loss: 0.58264, Val Loss: 0.58304\n",
      "Epoch: 264, Train: 0.8348, Val: 0.8339, Test: 0.8335, Loss: 0.58258, Val Loss: 0.58299\n",
      "Epoch: 265, Train: 0.8348, Val: 0.8339, Test: 0.8335, Loss: 0.58253, Val Loss: 0.58294\n",
      "Epoch: 266, Train: 0.8349, Val: 0.8339, Test: 0.8336, Loss: 0.58248, Val Loss: 0.58288\n",
      "Epoch: 267, Train: 0.8349, Val: 0.8340, Test: 0.8336, Loss: 0.58243, Val Loss: 0.58283\n",
      "Epoch: 268, Train: 0.8349, Val: 0.8340, Test: 0.8336, Loss: 0.58238, Val Loss: 0.58278\n",
      "Epoch: 269, Train: 0.8350, Val: 0.8341, Test: 0.8337, Loss: 0.58233, Val Loss: 0.58273\n",
      "Epoch: 270, Train: 0.8350, Val: 0.8341, Test: 0.8337, Loss: 0.58228, Val Loss: 0.58268\n",
      "Epoch: 271, Train: 0.8350, Val: 0.8341, Test: 0.8338, Loss: 0.58223, Val Loss: 0.58263\n",
      "Epoch: 272, Train: 0.8351, Val: 0.8342, Test: 0.8338, Loss: 0.58218, Val Loss: 0.58259\n",
      "Epoch: 273, Train: 0.8351, Val: 0.8342, Test: 0.8338, Loss: 0.58213, Val Loss: 0.58254\n",
      "Epoch: 274, Train: 0.8352, Val: 0.8342, Test: 0.8339, Loss: 0.58209, Val Loss: 0.58249\n",
      "Epoch: 275, Train: 0.8352, Val: 0.8343, Test: 0.8339, Loss: 0.58204, Val Loss: 0.58244\n",
      "Epoch: 276, Train: 0.8352, Val: 0.8343, Test: 0.8339, Loss: 0.58199, Val Loss: 0.58240\n",
      "Epoch: 277, Train: 0.8353, Val: 0.8343, Test: 0.8340, Loss: 0.58195, Val Loss: 0.58235\n",
      "Epoch: 278, Train: 0.8353, Val: 0.8344, Test: 0.8340, Loss: 0.58190, Val Loss: 0.58231\n",
      "Epoch: 279, Train: 0.8353, Val: 0.8344, Test: 0.8340, Loss: 0.58186, Val Loss: 0.58226\n",
      "Epoch: 280, Train: 0.8354, Val: 0.8344, Test: 0.8341, Loss: 0.58181, Val Loss: 0.58222\n",
      "Epoch: 281, Train: 0.8354, Val: 0.8345, Test: 0.8341, Loss: 0.58177, Val Loss: 0.58217\n",
      "Epoch: 282, Train: 0.8354, Val: 0.8345, Test: 0.8341, Loss: 0.58172, Val Loss: 0.58213\n",
      "Epoch: 283, Train: 0.8354, Val: 0.8345, Test: 0.8342, Loss: 0.58168, Val Loss: 0.58209\n",
      "Epoch: 284, Train: 0.8355, Val: 0.8346, Test: 0.8342, Loss: 0.58164, Val Loss: 0.58204\n",
      "Epoch: 285, Train: 0.8355, Val: 0.8346, Test: 0.8342, Loss: 0.58160, Val Loss: 0.58200\n",
      "Epoch: 286, Train: 0.8355, Val: 0.8346, Test: 0.8343, Loss: 0.58156, Val Loss: 0.58196\n",
      "Epoch: 287, Train: 0.8356, Val: 0.8347, Test: 0.8343, Loss: 0.58151, Val Loss: 0.58192\n",
      "Epoch: 288, Train: 0.8356, Val: 0.8347, Test: 0.8343, Loss: 0.58147, Val Loss: 0.58188\n",
      "Epoch: 289, Train: 0.8356, Val: 0.8347, Test: 0.8343, Loss: 0.58143, Val Loss: 0.58184\n",
      "Epoch: 290, Train: 0.8357, Val: 0.8348, Test: 0.8344, Loss: 0.58139, Val Loss: 0.58180\n",
      "Epoch: 291, Train: 0.8357, Val: 0.8348, Test: 0.8344, Loss: 0.58136, Val Loss: 0.58176\n",
      "Epoch: 292, Train: 0.8357, Val: 0.8348, Test: 0.8344, Loss: 0.58132, Val Loss: 0.58172\n",
      "Epoch: 293, Train: 0.8357, Val: 0.8348, Test: 0.8345, Loss: 0.58128, Val Loss: 0.58168\n",
      "Epoch: 294, Train: 0.8358, Val: 0.8349, Test: 0.8345, Loss: 0.58124, Val Loss: 0.58164\n",
      "Epoch: 295, Train: 0.8358, Val: 0.8349, Test: 0.8345, Loss: 0.58120, Val Loss: 0.58161\n",
      "Epoch: 296, Train: 0.8358, Val: 0.8349, Test: 0.8345, Loss: 0.58116, Val Loss: 0.58157\n",
      "Epoch: 297, Train: 0.8359, Val: 0.8350, Test: 0.8346, Loss: 0.58113, Val Loss: 0.58153\n",
      "Epoch: 298, Train: 0.8359, Val: 0.8350, Test: 0.8346, Loss: 0.58109, Val Loss: 0.58150\n",
      "Epoch: 299, Train: 0.8359, Val: 0.8350, Test: 0.8346, Loss: 0.58106, Val Loss: 0.58146\n",
      "Epoch: 300, Train: 0.8359, Val: 0.8350, Test: 0.8347, Loss: 0.58102, Val Loss: 0.58142\n",
      "Train: 0.8359, Val: 0.8350, Test: 0.8347, Train Loss: 0.58102, Val Loss: 0.58142, Test Loss: 0.58160\n"
     ]
    }
   ],
   "source": [
    "model = LightGCN(datasets['train'], args['num_layers'], emb_size=args['emb_size']).to(args['device'])\n",
    "optimizer = torch.optim.Adam(model.parameters(), lr=args['lr'], weight_decay=args['weight_decay'])\n",
    "\n",
    "best_model = train(model, optimizer, args)\n",
    "log = \"Train: {:.4f}, Val: {:.4f}, Test: {:.4f}, Train Loss: {:.5f}, Val Loss: {:.5f}, Test Loss: {:.5f}\"\n",
    "best_train_roc, train_loss = test(best_model, 'train', args)\n",
    "best_val_roc, val_loss = test(best_model, 'val', args)\n",
    "best_test_roc, test_loss = test(best_model, 'test', args)\n",
    "print(log.format(best_train_roc, best_val_roc, best_test_roc, train_loss, val_loss, test_loss))"
   ]
  },
  {
   "cell_type": "code",
   "execution_count": 159,
   "id": "13af95d3-465c-481c-bdcc-bc5dcd24ce4c",
   "metadata": {
    "tags": []
   },
   "outputs": [],
   "source": [
    "data = datasets['test']\n",
    "pred = model(data)\n"
   ]
  },
  {
   "cell_type": "code",
   "execution_count": 175,
   "id": "a027f0af-1dc9-4ea0-93ce-6be874cd4a94",
   "metadata": {
    "tags": []
   },
   "outputs": [
    {
     "data": {
      "text/plain": [
       "Graph(G=[], edge_index=[2, 3263754], edge_label=[725284], edge_label_index=[2, 725284], negative_label_val=[1], node_label_index=[38565])"
      ]
     },
     "execution_count": 175,
     "metadata": {},
     "output_type": "execute_result"
    }
   ],
   "source": [
    "data"
   ]
  },
  {
   "cell_type": "code",
   "execution_count": 176,
   "id": "20500072-4fcc-4ddd-a8c2-7f6759a36a54",
   "metadata": {
    "tags": []
   },
   "outputs": [
    {
     "data": {
      "text/plain": [
       "tensor([[    0,     0,     0,  ..., 36464, 37910, 35325],\n",
       "        [ 1171,  1105,  1187,  ...,   999,   999,   999]], device='cuda:0')"
      ]
     },
     "execution_count": 176,
     "metadata": {},
     "output_type": "execute_result"
    }
   ],
   "source": [
    "data.edge_index"
   ]
  },
  {
   "cell_type": "code",
   "execution_count": 177,
   "id": "12d50dc2-3893-4b71-ba8f-2b21f1eacf87",
   "metadata": {
    "tags": []
   },
   "outputs": [
    {
     "data": {
      "text/plain": [
       "tensor([1, 1, 1,  ..., 0, 0, 0], device='cuda:0')"
      ]
     },
     "execution_count": 177,
     "metadata": {},
     "output_type": "execute_result"
    }
   ],
   "source": [
    "data.edge_label"
   ]
  },
  {
   "cell_type": "code",
   "execution_count": 178,
   "id": "2a3155d1-c182-414c-a7e0-2d18bdefe422",
   "metadata": {
    "tags": []
   },
   "outputs": [
    {
     "data": {
      "text/plain": [
       "tensor([[  366,   242,   690,  ...,  5703, 10719, 27465],\n",
       "        [17083, 13053, 28496,  ..., 19909, 17538,  5413]], device='cuda:0')"
      ]
     },
     "execution_count": 178,
     "metadata": {},
     "output_type": "execute_result"
    }
   ],
   "source": [
    "data.edge_label_index"
   ]
  },
  {
   "cell_type": "code",
   "execution_count": 172,
   "id": "d8927d12-62f7-4ea8-b5de-acc651f29f3f",
   "metadata": {
    "tags": []
   },
   "outputs": [
    {
     "data": {
      "text/plain": [
       "Graph(G=[], edge_index=[2, 3263754], edge_label=[725284], edge_label_index=[2, 725284], negative_label_val=[1], node_label_index=[38565])"
      ]
     },
     "execution_count": 172,
     "metadata": {},
     "output_type": "execute_result"
    }
   ],
   "source": [
    "data"
   ]
  },
  {
   "cell_type": "code",
   "execution_count": 171,
   "id": "7e273922-c2d4-46fd-be12-edba36b8fc81",
   "metadata": {
    "tags": []
   },
   "outputs": [
    {
     "data": {
      "text/plain": [
       "deepsnap.graph.Graph"
      ]
     },
     "execution_count": 171,
     "metadata": {},
     "output_type": "execute_result"
    }
   ],
   "source": [
    "type(data)"
   ]
  },
  {
   "cell_type": "code",
   "execution_count": 168,
   "id": "28395097-18d4-4194-8eff-3412c9513cef",
   "metadata": {
    "tags": []
   },
   "outputs": [
    {
     "data": {
      "text/plain": [
       "tensor([[  366,   242,   690,  ...,  5703, 10719, 27465],\n",
       "        [17083, 13053, 28496,  ..., 19909, 17538,  5413]], device='cuda:0')"
      ]
     },
     "execution_count": 168,
     "metadata": {},
     "output_type": "execute_result"
    }
   ],
   "source": [
    "data.edge_label_index"
   ]
  },
  {
   "cell_type": "code",
   "execution_count": 153,
   "id": "cf06e0ad-076a-4fb0-aa5f-1104ca357558",
   "metadata": {
    "tags": []
   },
   "outputs": [],
   "source": [
    "def plot_learning_curve(losses, title):\n",
    "    train_loss, val_loss = zip(*losses)\n",
    "    steps = list(range(1, len(train_loss) + 1))\n",
    "    \n",
    "    min_val_loss = np.round(np.min(val_loss), 3)\n",
    "    \n",
    "    plt.figure(figsize=(16, 6))\n",
    "    plt.plot(steps, train_loss, '-r', label='Training Loss')\n",
    "    plt.plot(steps, val_loss, '-b', label='Validation Loss')\n",
    "    plt.hlines(min_val_loss, 1, 300, colors='k', linestyles='dotted', label='Min Validation Loss: {}'.format(min_val_loss))\n",
    "\n",
    "    plt.xlabel('Epochs')\n",
    "    plt.ylabel('Loss')\n",
    "    plt.ylim((0.58, 0.71))\n",
    "    plt.title(title)\n",
    "    plt.legend(loc='upper right')\n",
    "    plt.title(title)\n",
    "\n",
    "    return plt"
   ]
  },
  {
   "cell_type": "code",
   "execution_count": 154,
   "id": "fb1bc6a1-38ca-49d8-9ecc-1d9be4dd8d32",
   "metadata": {
    "tags": []
   },
   "outputs": [
    {
     "data": {
      "text/plain": [
       "<module 'matplotlib.pyplot' from '/home/asd27/.conda/envs/cudatorch/lib/python3.11/site-packages/matplotlib/pyplot.py'>"
      ]
     },
     "execution_count": 154,
     "metadata": {},
     "output_type": "execute_result"
    },
    {
     "data": {
      "image/png": "[encoded data removed]",
      "text/plain": [
       "<Figure size 1152x432 with 1 Axes>"
      ]
     },
     "metadata": {
      "needs_background": "light"
     },
     "output_type": "display_data"
    }
   ],
   "source": [
    "plot_learning_curve(losses, 'test')"
   ]
  },
  {
   "cell_type": "code",
   "execution_count": null,
   "id": "a8b4dfc4-cc06-41fd-a294-bf2cf2690035",
   "metadata": {},
   "outputs": [],
   "source": []
  }
 ],
 "metadata": {
  "kernelspec": {
   "display_name": "Python 3 (ipykernel)",
   "language": "python",
   "name": "python3"
  },
  "language_info": {
   "codemirror_mode": {
    "name": "ipython",
    "version": 3
   },
   "file_extension": ".py",
   "mimetype": "text/x-python",
   "name": "python",
   "nbconvert_exporter": "python",
   "pygments_lexer": "ipython3",
   "version": "3.11.0"
  }
 },
 "nbformat": 4,
 "nbformat_minor": 5
}
