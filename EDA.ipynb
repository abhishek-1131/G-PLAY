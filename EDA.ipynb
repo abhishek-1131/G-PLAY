{
 "cells": [
  {
   "cell_type": "code",
   "execution_count": 6,
   "id": "c4fbc336-355b-48e9-b22a-db65ac1cb9bf",
   "metadata": {
    "tags": []
   },
   "outputs": [],
   "source": [
    "import numpy as np\n",
    "import pandas as pd\n",
    "import matplotlib.pyplot as plt\n",
    "%matplotlib inline\n",
    "\n",
    "import json\n",
    "from pathlib import Path as Data_Path\n",
    "import os\n",
    "from os import listdir\n",
    "from os.path import isfile, join\n",
    "from itertools import combinations"
   ]
  },
  {
   "cell_type": "code",
   "execution_count": null,
   "id": "175ec4d9-1179-4649-bcf7-30618fe162ee",
   "metadata": {
    "tags": []
   },
   "outputs": [],
   "source": [
    "def generate_playlist_df(playlist_id, playlist_json):\n",
    "    cols = ['plst_id', 'plst_name', 'track_id', 'track_name']\n",
    "    data_col = []\n",
    "    plst_name = playlist_json['name']\n",
    "    \n",
    "    for track in playlist_json['tracks']:\n",
    "        track_id = ''.join(track['track_uri'].split(':')[2:])\n",
    "        data_col.append([f'plst_{playlist_id}', plst_name, track_id, track['track_name']])\n",
    "        \n",
    "    plst_df = pd.DataFrame(data=data_col, columns=cols)\n",
    "    return plst_df\n",
    "\n",
    "def generate_file_df(start_index, file_json):\n",
    "    dfs = []\n",
    "    for i, plst_json in enumerate(file_json['playlists']):\n",
    "        dfs.append(generate_playlist_df(start_index + i, plst_json))\n",
    "        \n",
    "    df_sum = pd.concat(dfs)\n",
    "    return df_sum\n",
    "\n",
    "def generate_spotify_df(data_path, start_index=None, end_index=None):\n",
    "    assert (start_index is None and end_index is None) or \\\n",
    "        (start_index is not None and end_index is not None), 'Set both or none indices.'\n",
    "    json_names = [f for f in listdir(data_path) if isfile(join(data_path, f)) and '.json' in f]\n",
    "    \n",
    "    num_playlists = start_index if start_index is not None else 0\n",
    "    section = json_names if start_index is None else json_names[start_index:end_index]\n",
    "    dfs = []\n",
    "    \n",
    "    for file_name in tqdm(section, desc='Files processed: ', unit='files', total=len(section)):\n",
    "        with open(join(data_path, file_name)) as json_file:\n",
    "            data = json.load(json_file)\n",
    "            \n",
    "        dfs.append(generate_file_df(num_playlists, data))\n",
    "        num_playlists += len(data['playlists'])\n",
    "        \n",
    "    df_total = pd.concat(dfs)\n",
    "    return df_total\n",
    "\n",
    "data_path = '../data/' #change path\n",
    "df = generate_spotify_df(data_path, 0, len(os.listdir()))"
   ]
  },
  {
   "cell_type": "code",
   "execution_count": null,
   "id": "7f150f0b-326c-4786-b8b2-ed8670833256",
   "metadata": {},
   "outputs": [],
   "source": []
  }
 ],
 "metadata": {
  "kernelspec": {
   "display_name": "Python 3 (ipykernel)",
   "language": "python",
   "name": "python3"
  },
  "language_info": {
   "codemirror_mode": {
    "name": "ipython",
    "version": 3
   },
   "file_extension": ".py",
   "mimetype": "text/x-python",
   "name": "python",
   "nbconvert_exporter": "python",
   "pygments_lexer": "ipython3",
   "version": "3.11.0"
  }
 },
 "nbformat": 4,
 "nbformat_minor": 5
}
